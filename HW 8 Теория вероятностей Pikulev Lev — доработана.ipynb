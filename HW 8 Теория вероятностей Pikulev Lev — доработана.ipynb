{
 "cells": [
  {
   "cell_type": "markdown",
   "metadata": {},
   "source": [
    "# 1. Классическая теория вероятностей\n",
    "## Вопрос 1\n",
    "На шахматной доске азмера n x n сучайно размещают n ладей. Найти вероятность:\n",
    "А = {Ладьи не бьют друг друга} ;\n",
    "B = {Ладьи не бьют друг друга и на гланой диагонали нет фигур}\n"
   ]
  },
  {
   "cell_type": "markdown",
   "metadata": {},
   "source": [
    "P(A) = m / M , где m - количество размещений, когда ладьи не бьют друг друга (не расположены на одинаковых горизонтальных и вертикальных осях), M - количество возможных вариантов размещений. При этом ладьи считаем безликими."
   ]
  },
  {
   "cell_type": "markdown",
   "metadata": {},
   "source": []
  },
  {
   "cell_type": "markdown",
   "metadata": {},
   "source": [
    "Количество способов расположить 1 ладью это n**2. Количество способов расположить вторую ладью это (n**2 - 1). И т.д.\n",
    "Количество способов расположить n ладей - это произведение (n**2) * (n**2 - 1) * ... * (n**2 - n)\n",
    "Посчитаем, сколько есть комбинаций расположения n ладей на поле размером n*n . Это и будет М"
   ]
  },
  {
   "cell_type": "code",
   "execution_count": 81,
   "metadata": {},
   "outputs": [],
   "source": [
    "def chess_comb(dimensions):\n",
    "    \"\"\"функция принимает количество сторон кваратной шахматной доски n и \n",
    "    возвращает количество вариантов размещения n одинаковых фигур на ней.\n",
    "    Фигуры одинакове, не пронумерованные, поэтому в ответе общее количество вариантов (answer) делим на количество фигур n\"\"\"\n",
    "    n = dimensions\n",
    "    m = 0\n",
    "    values = []\n",
    "    while m < n:\n",
    "        value = n**2 - m\n",
    "        values.append(value)\n",
    "        m += 1\n",
    "    \n",
    "    answer = 1\n",
    "    for value in values:\n",
    "        answer *= value\n",
    "    return int(answer/n)"
   ]
  },
  {
   "cell_type": "code",
   "execution_count": 82,
   "metadata": {},
   "outputs": [
    {
     "data": {
      "text/plain": [
       "22307873454720"
      ]
     },
     "execution_count": 82,
     "metadata": {},
     "output_type": "execute_result"
    }
   ],
   "source": [
    "# проверим для 8\n",
    "chess_comb(8)"
   ]
  },
  {
   "cell_type": "code",
   "execution_count": 83,
   "metadata": {},
   "outputs": [
    {
     "data": {
      "text/plain": [
       "22307873454720.0"
      ]
     },
     "execution_count": 83,
     "metadata": {},
     "output_type": "execute_result"
    }
   ],
   "source": [
    "# проверим себя еще раз\n",
    "(64*63*62*61*60*59*58*57)/8"
   ]
  },
  {
   "cell_type": "code",
   "execution_count": 84,
   "metadata": {},
   "outputs": [
    {
     "data": {
      "text/plain": [
       "6"
      ]
     },
     "execution_count": 84,
     "metadata": {},
     "output_type": "execute_result"
    }
   ],
   "source": [
    "# проверим для 2. Для поля 2 на 2 можем две фигуры расположить по бокам (4 варианта) и по диагоналям (2 варианта), больше никак.\n",
    "# итого должно получиться 6\n",
    "#перестановка фигур местами (рокировка) не считается, т.к.для нас фигуры одинаковые.\n",
    "chess_comb(2)"
   ]
  },
  {
   "cell_type": "code",
   "execution_count": 85,
   "metadata": {},
   "outputs": [],
   "source": [
    "# Найдем m. Это количество способов расположить ладьи так,\n",
    "# чтобы они не урожали друг другу. Занимая какую-то вертикаль ладьей, наше количество доступных вертикалей уменьшается на 1.\n",
    "# По правилу произведения для доски 8 на 8 это будет 8*7*6*5*4*3*2*1 = 40320. В общем случае n!\n",
    "# Посчитаем P(A) = m / M\n",
    "# для того, чтобы не придумывать функцию факториала импортируем модуль math\n",
    "import math\n"
   ]
  },
  {
   "cell_type": "code",
   "execution_count": 88,
   "metadata": {},
   "outputs": [
    {
     "data": {
      "text/plain": [
       "40320"
      ]
     },
     "execution_count": 88,
     "metadata": {},
     "output_type": "execute_result"
    }
   ],
   "source": [
    "math.factorial(8)"
   ]
  },
  {
   "cell_type": "code",
   "execution_count": 86,
   "metadata": {},
   "outputs": [],
   "source": [
    "def prob(n):\n",
    "    return math.factorial(n) / chess_comb(n)"
   ]
  },
  {
   "cell_type": "code",
   "execution_count": 87,
   "metadata": {},
   "outputs": [
    {
     "data": {
      "text/plain": [
       "1.807433598807192e-09"
      ]
     },
     "execution_count": 87,
     "metadata": {},
     "output_type": "execute_result"
    }
   ],
   "source": [
    "# для доски 8 на 8 и восьми ладей вероятность расположения, когда ладьи не бьют друг друга очень маленькая\n",
    "prob(8)"
   ]
  },
  {
   "cell_type": "code",
   "execution_count": 89,
   "metadata": {
    "scrolled": false
   },
   "outputs": [],
   "source": [
    "# Найдем вероятность B = {Ладьи не бьют друг друга и на гланой диагонали нет фигур}\n",
    "# исключая возможность размещения на главных диагоналях теряем половину вариантов размещения и два варианта с размещением на какой-либо из двух диагноалей.\n",
    "# таким образом число вариантов размещения будет\n",
    "# (math.factorial(n)/2) - 2\n",
    "# а функция вычисления вероятности примет вид\n",
    "def prob_without_diagonal(n):\n",
    "    return ((math.factorial(n)/2) - 2) / chess_comb(n)"
   ]
  },
  {
   "cell_type": "code",
   "execution_count": 90,
   "metadata": {},
   "outputs": [
    {
     "data": {
      "text/plain": [
       "9.036271449592108e-10"
      ]
     },
     "execution_count": 90,
     "metadata": {},
     "output_type": "execute_result"
    }
   ],
   "source": [
    "#посчитаем для обычной доски:\n",
    "prob_without_diagonal(8)"
   ]
  },
  {
   "cell_type": "markdown",
   "metadata": {},
   "source": [
    "## Вопрос 2\n",
    "Брошено 3 игральных кости. Найти вероятность того, что на всех костях выпала шестерка при условии, что:\n",
    "    а. по крайней мере на одной кости выпала шестерка;\n",
    "    b. по крайней мере на двух костях выпало равное количество очков."
   ]
  },
  {
   "cell_type": "markdown",
   "metadata": {},
   "source": [
    "a"
   ]
  },
  {
   "cell_type": "code",
   "execution_count": 5,
   "metadata": {},
   "outputs": [
    {
     "data": {
      "text/plain": [
       "0.004629629629629629"
      ]
     },
     "execution_count": 5,
     "metadata": {},
     "output_type": "execute_result"
    }
   ],
   "source": [
    "# имеем дело с условной вероятностью\n",
    "# Событие А - на всех костях выпали шестерки. Вероятность такого события: 1/6 * 1/6 * 1/6\n",
    "PA = 1/6 ** 3\n",
    "PA"
   ]
  },
  {
   "cell_type": "code",
   "execution_count": 6,
   "metadata": {},
   "outputs": [
    {
     "data": {
      "text/plain": [
       "0.5"
      ]
     },
     "execution_count": 6,
     "metadata": {},
     "output_type": "execute_result"
    }
   ],
   "source": [
    "# событие В - на какой-то одной кости из трех брошенных выпало 6 очков\n",
    "PB = 1/6 + 1/6 + 1/6\n",
    "PB"
   ]
  },
  {
   "cell_type": "markdown",
   "metadata": {},
   "source": [
    "b"
   ]
  },
  {
   "cell_type": "code",
   "execution_count": 13,
   "metadata": {},
   "outputs": [
    {
     "data": {
      "text/plain": [
       "0.5277777777777778"
      ]
     },
     "execution_count": 13,
     "metadata": {},
     "output_type": "execute_result"
    }
   ],
   "source": [
    "# C - событие, когда хотя бы на одной из трех костей выпала шестерка (1/6 + 1/6 + 1/6 = 1/2) и  \n",
    "# на двух других костях выпали одинаковые цифры 1/6 * 1/6 = 1/36\n",
    "PC = 1/2 + 1/36 # = 19/36\n",
    "PC"
   ]
  },
  {
   "cell_type": "code",
   "execution_count": null,
   "metadata": {},
   "outputs": [],
   "source": []
  },
  {
   "cell_type": "markdown",
   "metadata": {},
   "source": [
    "## Вопрос 3\n",
    "В некоторой популяции до 60 лет доживает 50% , а до 80 лет - 20%. Какова вероятность, что случайно выбранный 60-летний представитель \n",
    "популяции доживет до 80 лет?"
   ]
  },
  {
   "cell_type": "code",
   "execution_count": 95,
   "metadata": {},
   "outputs": [],
   "source": [
    "# События являются зависимыми:\n",
    "# А - дожитие до 80 лет\n",
    "# В - дожитие до 60 лет\n",
    "\n",
    "# используем формулу условной вероятности\n",
    "# P(A|B) = P(AB)/P(B) = 20% / 50% = 40%"
   ]
  },
  {
   "cell_type": "code",
   "execution_count": 97,
   "metadata": {},
   "outputs": [
    {
     "data": {
      "text/plain": [
       "0.4"
      ]
     },
     "execution_count": 97,
     "metadata": {},
     "output_type": "execute_result"
    }
   ],
   "source": [
    "0.2 / 0.5"
   ]
  },
  {
   "cell_type": "markdown",
   "metadata": {},
   "source": [
    "## Вопрос 4\n",
    "На заводе обуви производится 3 типа моделей. Вероятность того, что первая модель некачественная - 0.1 , вторая - 0.2 , \n",
    "третья - 0.15.\n",
    "а. Какова вероятность, что случайная пара окажется качественной? b. Какова вероятность того, что выбранная случайная некачественная пара окажется второй модели?"
   ]
  },
  {
   "cell_type": "code",
   "execution_count": 14,
   "metadata": {},
   "outputs": [
    {
     "data": {
      "text/plain": [
       "0.14500000000000002"
      ]
     },
     "execution_count": 14,
     "metadata": {},
     "output_type": "execute_result"
    }
   ],
   "source": [
    "# событие А - случайная пара обуви качественная. Вероятность встретить брак (обратное событие) равна сумме вероятностей \n",
    "# брака каждой модели, \n",
    "# помноженной на вероятность эту модель встретить:\n",
    "P_no_A = 0.1 * 0.4 + 0.2 * 0.3 + 0.15 * 0.3\n",
    "P_no_A"
   ]
  },
  {
   "cell_type": "code",
   "execution_count": 16,
   "metadata": {
    "scrolled": true
   },
   "outputs": [
    {
     "data": {
      "text/plain": [
       "0.855"
      ]
     },
     "execution_count": 16,
     "metadata": {},
     "output_type": "execute_result"
    }
   ],
   "source": [
    "# вероятность А\n",
    "PA = 1 - P_no_A\n",
    "PA"
   ]
  },
  {
   "cell_type": "code",
   "execution_count": 112,
   "metadata": {},
   "outputs": [],
   "source": [
    "# События являются зависимыми:\n",
    "# А - бракованная пара является второй моделю\n",
    "# В - натолкнулись на брак\n",
    "\n",
    "# используем формулу условной вероятности\n",
    "# P(A|B) = P(B|A) * P(A)/P(B), где\n",
    "# P(A|B) - Вероятность наступления события А при условии события В\n",
    "# P(B|A) - Вероятность наступления события B при условии события A\n",
    "1 * "
   ]
  },
  {
   "cell_type": "code",
   "execution_count": 17,
   "metadata": {},
   "outputs": [
    {
     "data": {
      "text/plain": [
       "0.4137931034482758"
      ]
     },
     "execution_count": 17,
     "metadata": {},
     "output_type": "execute_result"
    }
   ],
   "source": [
    "(0.2*0.3) / (1 - Out[16])"
   ]
  },
  {
   "cell_type": "markdown",
   "metadata": {},
   "source": [
    "# 2. Распределения\n",
    "## Вопрос 1\n",
    "Какие из приведенных величин скорее всего можно моделировать с помощью рапределения Пуассона?"
   ]
  },
  {
   "cell_type": "markdown",
   "metadata": {},
   "source": [
    "b. Количество людей в очереди на кассу в супермаркете"
   ]
  },
  {
   "cell_type": "markdown",
   "metadata": {},
   "source": [
    "c. Количество изюма в булочках"
   ]
  },
  {
   "cell_type": "markdown",
   "metadata": {},
   "source": [
    "e. Точное время прихода на работу"
   ]
  },
  {
   "cell_type": "markdown",
   "metadata": {},
   "source": [
    "`Ответ:` распределение Пуассона используется, когда проведена серия испытаний и нужно определить, с какой частотой встречается то или иное благоприятное событие."
   ]
  },
  {
   "cell_type": "markdown",
   "metadata": {},
   "source": [
    "## Вопрос 2\n",
    "Постройте графики плотностей и функций распределения для:"
   ]
  },
  {
   "cell_type": "markdown",
   "metadata": {},
   "source": [
    "а. Распределения Пуассона"
   ]
  },
  {
   "cell_type": "markdown",
   "metadata": {},
   "source": [
    "b. Экспоненциального распределения (sts.expon)"
   ]
  },
  {
   "cell_type": "markdown",
   "metadata": {},
   "source": [
    "с. Любого на выбор, которое не проходили"
   ]
  },
  {
   "cell_type": "markdown",
   "metadata": {},
   "source": [
    "Для каждого распределения поэкспериментируйте с выбором параметров и изобразите их на одном графике, не забывая про легенду и подписи осей."
   ]
  },
  {
   "cell_type": "code",
   "execution_count": 19,
   "metadata": {},
   "outputs": [],
   "source": [
    "import pandas as pd\n",
    "import numpy as np\n",
    "import matplotlib.pyplot as plt\n",
    "import scipy.stats as sts # библиотека для задания случайных величин\n",
    "from scipy.stats import poisson\n",
    "%matplotlib inline"
   ]
  },
  {
   "cell_type": "code",
   "execution_count": 20,
   "metadata": {
    "scrolled": false
   },
   "outputs": [
    {
     "data": {
      "text/plain": [
       "array([64, 71, 45, 72, 46, 63, 54, 55, 67, 53, 52, 49, 50, 53, 44, 53, 44,\n",
       "       48, 39, 57])"
      ]
     },
     "execution_count": 20,
     "metadata": {},
     "output_type": "execute_result"
    }
   ],
   "source": [
    "mu = 50.0\n",
    "\n",
    "# зададим нормально распределенную по Пуассону случайную величину\n",
    "poisson_dist = sts.poisson(mu) # sts.norm создает случайную величину\n",
    "\n",
    "# сгенерируем 20 значений\n",
    "poisson_dist.rvs(size=20)"
   ]
  },
  {
   "cell_type": "code",
   "execution_count": 23,
   "metadata": {},
   "outputs": [
    {
     "data": {
      "text/plain": [
       "Text(0.5,0,'$x$')"
      ]
     },
     "execution_count": 23,
     "metadata": {},
     "output_type": "execute_result"
    },
    {
     "data": {
      "image/png": "[encoded data removed]",
      "text/plain": [
       "<Figure size 864x576 with 1 Axes>"
      ]
     },
     "metadata": {
      "needs_background": "light"
     },
     "output_type": "display_data"
    }
   ],
   "source": [
    "###### построим график распределения вероятностейи плотности распределения\n",
    "mu = 20.0\n",
    "\n",
    "poisson_dist = sts.poisson(mu)\n",
    "x = np.linspace(0,30,41)\n",
    "cdf = poisson_dist.cdf(x) # функция может принимать и вектор (x). pdf сторит графики плотности\n",
    "pmf = poisson_dist.pmf(x)\n",
    "plt.figure(figsize=(12,8))\n",
    "\n",
    "plt.plot(x,cdf)\n",
    "plt.plot(x,pmf)\n",
    "\n",
    "plt.ylabel('$f(x)$')\n",
    "plt.xlabel('$x$')\n",
    "\n",
    "plt.legend(['Функция распределения вероятностей F(x)', 'Плотность распределения вероятностей дискретного распределения'])\n",
    "plt.ylabel('$f(x)$')\n",
    "plt.xlabel('$x$')"
   ]
  },
  {
   "cell_type": "markdown",
   "metadata": {},
   "source": [
    "Теперь экспоненциальная функция"
   ]
  },
  {
   "cell_type": "code",
   "execution_count": 24,
   "metadata": {},
   "outputs": [
    {
     "data": {
      "text/plain": [
       "array([51.19015759, 50.96347822, 50.27053923, 50.69025041, 52.7718224 ,\n",
       "       50.91966026, 50.22061329, 52.60505398, 51.27251191, 52.33666365,\n",
       "       50.72067071, 50.3136451 , 50.76757921, 50.77863887, 50.17582875,\n",
       "       50.5922726 , 50.22002633, 51.58329127, 50.18163187, 51.97247406])"
      ]
     },
     "execution_count": 24,
     "metadata": {},
     "output_type": "execute_result"
    }
   ],
   "source": [
    "mu = 50.0\n",
    "\n",
    "# зададим нормально распределенную по экспоненте случайную величину\n",
    "expon_dist = sts.expon(mu) \n",
    "\n",
    "# сгенерируем 20 значений\n",
    "expon_dist.rvs(size=20)"
   ]
  },
  {
   "cell_type": "code",
   "execution_count": 28,
   "metadata": {},
   "outputs": [
    {
     "data": {
      "text/plain": [
       "Text(0.5,0,'$x$')"
      ]
     },
     "execution_count": 28,
     "metadata": {},
     "output_type": "execute_result"
    },
    {
     "data": {
      "image/png": "[encoded data removed]",
      "text/plain": [
       "<Figure size 720x576 with 1 Axes>"
      ]
     },
     "metadata": {
      "needs_background": "light"
     },
     "output_type": "display_data"
    }
   ],
   "source": [
    "# построим график\n",
    "mu = 20\n",
    "\n",
    "expon_dist = sts.expon(mu) \n",
    "x = np.linspace(0,30,41)\n",
    "cdf = expon_dist.cdf(x)\n",
    "pdf = expon_dist.pdf(x)\n",
    "plt.figure(figsize=(10,8))\n",
    "\n",
    "plt.plot(x,cdf)\n",
    "plt.plot(x,pdf)\n",
    "\n",
    "plt.ylabel('$f(x)$')\n",
    "plt.xlabel('$x$')\n",
    "\n",
    "plt.legend(['Функция распределения вероятностей F(x)', 'Плотность распределения вероятностей дискретного распределения'])\n",
    "plt.ylabel('$f(x)$')\n",
    "plt.xlabel('$x$')"
   ]
  },
  {
   "cell_type": "code",
   "execution_count": null,
   "metadata": {},
   "outputs": [],
   "source": [
    "# строим все на одном графике функции распределения"
   ]
  },
  {
   "cell_type": "code",
   "execution_count": 31,
   "metadata": {
    "scrolled": true
   },
   "outputs": [
    {
     "data": {
      "text/plain": [
       "Text(0.5,0,'$x$')"
      ]
     },
     "execution_count": 31,
     "metadata": {},
     "output_type": "execute_result"
    },
    {
     "data": {
      "image/png": "[encoded data removed]",
      "text/plain": [
       "<Figure size 864x288 with 1 Axes>"
      ]
     },
     "metadata": {
      "needs_background": "light"
     },
     "output_type": "display_data"
    }
   ],
   "source": [
    "mu = 20.0\n",
    "\n",
    "poisson_dist = sts.poisson(mu)\n",
    "expon_dist = sts.expon(mu) \n",
    "x = np.linspace(0,30,41)\n",
    "cdf = poisson_dist.cdf(x) # функция может принимать и вектор (x). pdf сторит графики плотности\n",
    "cdf2 = expon_dist.cdf(x)\n",
    "plt.figure(figsize=(12,4))\n",
    "\n",
    "plt.plot(x,cdf)\n",
    "plt.plot(x,cdf2)\n",
    "\n",
    "plt.ylabel('$f(x)$')\n",
    "plt.xlabel('$x$')\n",
    "\n",
    "plt.legend(['Функция распределения вероятностей F(x) распределения Пуассона', 'Функция распределения вероятностей F(x) экспоненциальной функции'])\n",
    "plt.ylabel('$f(x)$')\n",
    "plt.xlabel('$x$')\n"
   ]
  },
  {
   "cell_type": "code",
   "execution_count": null,
   "metadata": {},
   "outputs": [],
   "source": [
    "# строим на другом графике плотности распределения вероятностей"
   ]
  },
  {
   "cell_type": "code",
   "execution_count": 39,
   "metadata": {},
   "outputs": [
    {
     "data": {
      "text/plain": [
       "Text(0.5,0,'$x$')"
      ]
     },
     "execution_count": 39,
     "metadata": {},
     "output_type": "execute_result"
    },
    {
     "data": {
      "image/png": "[encoded data removed]",
      "text/plain": [
       "<Figure size 864x864 with 1 Axes>"
      ]
     },
     "metadata": {
      "needs_background": "light"
     },
     "output_type": "display_data"
    }
   ],
   "source": [
    "mu = 20.0\n",
    "\n",
    "poisson_dist = sts.poisson(mu)\n",
    "expon_dist = sts.expon(mu) \n",
    "x = np.linspace(0,30,41)\n",
    "pmf = poisson_dist.pmf(x)\n",
    "pdf2 = expon_dist.pdf(x)\n",
    "plt.figure(figsize=(12,12))\n",
    "\n",
    "plt.plot(x,pmf)\n",
    "plt.plot(x,pdf2)\n",
    "\n",
    "plt.ylabel('$f(x)$')\n",
    "plt.xlabel('$x$')\n",
    "\n",
    "plt.legend(['Плотность распределения вероятностей дискретного распределения (Пуассона)', 'Плотность распределения вероятностей распределения экспоненциальной функции'])\n",
    "plt.ylabel('$f(x)$')\n",
    "plt.xlabel('$x$')\n"
   ]
  }
 ],
 "metadata": {
  "kernelspec": {
   "display_name": "Python 3",
   "language": "python",
   "name": "python3"
  },
  "language_info": {
   "codemirror_mode": {
    "name": "ipython",
    "version": 3
   },
   "file_extension": ".py",
   "mimetype": "text/x-python",
   "name": "python",
   "nbconvert_exporter": "python",
   "pygments_lexer": "ipython3",
   "version": "3.7.0"
  }
 },
 "nbformat": 4,
 "nbformat_minor": 2
}
