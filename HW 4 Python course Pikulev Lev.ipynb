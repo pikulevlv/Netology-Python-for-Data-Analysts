{
 "cells": [
  {
   "cell_type": "markdown",
   "metadata": {},
   "source": [
    "Задание 1\n",
    "Напишите функцию date_range, которая возвращает список дней \n",
    "между датами start_date и end_date. Даты должны вводиться в формате YYYY-MM-DD."
   ]
  },
  {
   "cell_type": "code",
   "execution_count": 1,
   "metadata": {},
   "outputs": [],
   "source": [
    "from datetime import datetime"
   ]
  },
  {
   "cell_type": "code",
   "execution_count": 2,
   "metadata": {},
   "outputs": [],
   "source": [
    "from datetime import timedelta"
   ]
  },
  {
   "cell_type": "code",
   "execution_count": 3,
   "metadata": {},
   "outputs": [],
   "source": [
    "def date_range(start_date, end_date):\n",
    "    start_date_dt = datetime.strptime(start_date, '%Y-%m-%d')\n",
    "    end_date_dt = datetime.strptime(end_date, '%Y-%m-%d')\n",
    "    cd = start_date_dt\n",
    "    while cd <= end_date_dt:\n",
    "        print(datetime.strftime(cd, '%d.%m'))\n",
    "        cd += timedelta(days=1)\n",
    "    "
   ]
  },
  {
   "cell_type": "code",
   "execution_count": 4,
   "metadata": {},
   "outputs": [
    {
     "name": "stdout",
     "output_type": "stream",
     "text": [
      "09.12\n",
      "10.12\n",
      "11.12\n",
      "12.12\n",
      "13.12\n",
      "14.12\n",
      "15.12\n",
      "16.12\n",
      "17.12\n",
      "18.12\n",
      "19.12\n",
      "20.12\n",
      "21.12\n",
      "22.12\n",
      "23.12\n",
      "24.12\n",
      "25.12\n",
      "26.12\n",
      "27.12\n",
      "28.12\n",
      "29.12\n",
      "30.12\n",
      "31.12\n"
     ]
    }
   ],
   "source": [
    "date_range('2018-12-09', '2018-12-31')"
   ]
  },
  {
   "cell_type": "code",
   "execution_count": null,
   "metadata": {},
   "outputs": [],
   "source": []
  },
  {
   "cell_type": "code",
   "execution_count": null,
   "metadata": {},
   "outputs": [],
   "source": []
  },
  {
   "cell_type": "markdown",
   "metadata": {},
   "source": [
    "Задание 2\n",
    "Дополните функцию из первого задания проверкой на корректность дат. \n",
    "В случае неверного формата или если start_date > end_date должен возвращаться пустой список."
   ]
  },
  {
   "cell_type": "code",
   "execution_count": 220,
   "metadata": {},
   "outputs": [],
   "source": [
    "def correct_control(controlled_date):\n",
    "    \"\"\"Функция проверяет значение передаваемой даты на следующие возможные ошибки:\n",
    "    1. Дата введена в некорректном формате, например '2018-12-07T23:35:52' или '12.12.2018'.\n",
    "    2. Отличается количество символов (не равно 10).\n",
    "    3. Проверяет, чтобы значения YYYY-MM-DD  были разделены тире.\n",
    "    4. Дата не существует.\n",
    "    5. Даты должны входить в диапазон с 1991-01-01 по 2021-12-31 (считается, что все, что за пределами - аномалия).\n",
    "    \n",
    "    \"\"\"\n",
    "    try:\n",
    "        if len(controlled_date) == 10 and \\\n",
    "        controlled_date[4:8:3] == '--' and \\\n",
    "        1991 <= datetime.strptime(controlled_date, '%Y-%m-%d').year <= 2021 and \\\n",
    "        1 <= datetime.strptime(controlled_date, '%Y-%m-%d').month <= 12 and \\\n",
    "        1 <= datetime.strptime(controlled_date, '%Y-%m-%d').day <= 31:\n",
    "            return True\n",
    "        else:\n",
    "            return False\n",
    "    except ValueError:\n",
    "            return False"
   ]
  },
  {
   "cell_type": "code",
   "execution_count": 236,
   "metadata": {},
   "outputs": [],
   "source": [
    "def date_range_2(start_date, end_date):\n",
    "    \"\"\"Функция выводит список дат в формате DD.MM (например '22.12'), а также выводит пустой список, если дата начала (start_date) \n",
    "    является более поздней датой, чем дата конца (end_date).\n",
    "    В функции происходит проверка на возможные некорректно введенные даты при помощи функции correct_control.\n",
    "    Если приходит несуществующая дата (например '2018-12-32'), пользователь получит сообщение 'Вы ошиблись с датой' и только \n",
    "    после этого сообщения ниже увидит текст Traceback.\n",
    "    \"\"\"\n",
    "    if correct_control(start_date):\n",
    "        start_date_dt = datetime.strptime(start_date, '%Y-%m-%d')\n",
    "    else:\n",
    "        try:\n",
    "            start_date_dt = datetime.strptime(start_date, '%Y-%m-%d')\n",
    "        except ValueError:\n",
    "            print('Вы ошиблись с датой')\n",
    "        except UnboundLocalError:\n",
    "            print('Вы ошиблись с датой')\n",
    "\n",
    "\n",
    "    if correct_control(end_date):\n",
    "        end_date_dt = datetime.strptime(end_date, '%Y-%m-%d')\n",
    "    else:\n",
    "        try:\n",
    "            end_date_dt = datetime.strptime(end_date, '%Y-%m-%d')\n",
    "        except ValueError:\n",
    "            print('Вы ошиблись с датой')\n",
    "        except UnboundLocalError:\n",
    "            print('Вы ошиблись с датой')\n",
    "    cd = start_date_dt\n",
    "    days = []\n",
    "    if start_date_dt <= end_date_dt:\n",
    "        while cd <= end_date_dt:\n",
    "            days.append(datetime.strftime(cd, '%d.%m'))\n",
    "            cd += timedelta(days=1)\n",
    "        return days\n",
    "    else:\n",
    "        return days"
   ]
  },
  {
   "cell_type": "code",
   "execution_count": 239,
   "metadata": {},
   "outputs": [
    {
     "data": {
      "text/plain": [
       "['09.12',\n",
       " '10.12',\n",
       " '11.12',\n",
       " '12.12',\n",
       " '13.12',\n",
       " '14.12',\n",
       " '15.12',\n",
       " '16.12',\n",
       " '17.12',\n",
       " '18.12',\n",
       " '19.12',\n",
       " '20.12',\n",
       " '21.12',\n",
       " '22.12',\n",
       " '23.12',\n",
       " '24.12',\n",
       " '25.12',\n",
       " '26.12',\n",
       " '27.12',\n",
       " '28.12',\n",
       " '29.12',\n",
       " '30.12',\n",
       " '31.12']"
      ]
     },
     "execution_count": 239,
     "metadata": {},
     "output_type": "execute_result"
    }
   ],
   "source": [
    "date_range_2('2018-12-09', '2018-12-31')"
   ]
  },
  {
   "cell_type": "code",
   "execution_count": null,
   "metadata": {},
   "outputs": [],
   "source": []
  },
  {
   "cell_type": "code",
   "execution_count": null,
   "metadata": {},
   "outputs": [],
   "source": []
  },
  {
   "cell_type": "code",
   "execution_count": null,
   "metadata": {
    "scrolled": true
   },
   "outputs": [],
   "source": []
  },
  {
   "cell_type": "markdown",
   "metadata": {},
   "source": [
    "Задание 3\n",
    "Дан поток дат в формате YYYY-MM-DD, в которых встречаются некорректные значения:\n",
    "stream = ['2018-04-02', '2018-02-29', '2018-19-02'].\n",
    "Напишите функцию, которая проверяет эти даты на корректность. \n",
    "Т. е. для каждой даты возвращает True (дата корректна) или False (некорректная дата). "
   ]
  },
  {
   "cell_type": "code",
   "execution_count": 242,
   "metadata": {},
   "outputs": [],
   "source": [
    "stream = ['2018-04-02', '2018-02-29', '2018-19-02']"
   ]
  },
  {
   "cell_type": "code",
   "execution_count": null,
   "metadata": {},
   "outputs": [],
   "source": [
    "def correct_control(controlled_date):\n",
    "    \"\"\"Функция проверяет значение передаваемой даты на следующие возможные ошибки:\n",
    "    1. Дата введена в некорректном формате, например '2018-12-07T23:35:52' или '12.12.2018'.\n",
    "    2. Отличается количество символов (не равно 10).\n",
    "    3. Проверяет, чтобы значения YYYY-MM-DD  были разделены тире.\n",
    "    4. Дата не существует.\n",
    "    5. Даты должны входить в диапазон с 1991-01-01 по 2021-12-31 (считается, что все, что за пределами - аномалия).\n",
    "    \n",
    "    \"\"\"\n",
    "    try:\n",
    "        if len(controlled_date) == 10 and \\\n",
    "        controlled_date[4:8:3] == '--' and \\\n",
    "        1991 <= datetime.strptime(controlled_date, '%Y-%m-%d').year <= 2021 and \\\n",
    "        1 <= datetime.strptime(controlled_date, '%Y-%m-%d').month <= 12 and \\\n",
    "        1 <= datetime.strptime(controlled_date, '%Y-%m-%d').day <= 31:\n",
    "            return True\n",
    "        else:\n",
    "            return False\n",
    "    except ValueError:\n",
    "            return False"
   ]
  },
  {
   "cell_type": "code",
   "execution_count": null,
   "metadata": {},
   "outputs": [],
   "source": []
  },
  {
   "cell_type": "code",
   "execution_count": 251,
   "metadata": {},
   "outputs": [],
   "source": [
    "def correct_control_for_stream(stream):\n",
    "    \"\"\"Функция просто выводит булевы переменные в порядке значений дат, переданных в списке. Основная проверка проходит\n",
    "    в функции correct_control(), см. ее описание в предыдущем задании.    \n",
    "    \"\"\"\n",
    "    for stream_date in stream:\n",
    "        if correct_control(stream_date):\n",
    "            print(True)\n",
    "        else:\n",
    "            print(False)"
   ]
  },
  {
   "cell_type": "code",
   "execution_count": 252,
   "metadata": {},
   "outputs": [
    {
     "name": "stdout",
     "output_type": "stream",
     "text": [
      "True\n",
      "False\n",
      "False\n"
     ]
    }
   ],
   "source": [
    "correct_control_for_stream(stream)"
   ]
  },
  {
   "cell_type": "markdown",
   "metadata": {},
   "source": [
    "Задание 4\n",
    "Напишите функцию, которая возвращает список дат с 1 по вчерашний день текущего месяца. \n",
    "Если дан 1 день месяца, то возвращается список дней прошлого месяца."
   ]
  },
  {
   "cell_type": "code",
   "execution_count": 350,
   "metadata": {},
   "outputs": [],
   "source": [
    "today_date = datetime.now()"
   ]
  },
  {
   "cell_type": "code",
   "execution_count": 355,
   "metadata": {},
   "outputs": [],
   "source": [
    "def date_range_2(today_date):\n",
    "    if (datetime.strftime(today_date, '%Y-%m-%d'))[-2:] == '01':\n",
    "        today_date_dt = today_date - timedelta(days=1)\n",
    "        today_date_str = datetime.strftime(today_date_dt, '%Y-%m-%d')\n",
    "        first_date_str = today_date_str[:8] + '01'\n",
    "        first_date_dt = datetime.strptime(first_date_str, '%Y-%m-%d')\n",
    "        while first_date_dt < today_date_dt:\n",
    "            print(datetime.strftime(first_date_dt, '%d.%m'))\n",
    "            first_date_dt += timedelta(days=1)\n",
    "    else:\n",
    "        today_date_str = datetime.strftime(today_date, '%Y-%m-%d')\n",
    "        first_date_str = today_date_str[:8] + '01'\n",
    "        today_date_dt = datetime.strptime(today_date_str, '%Y-%m-%d')\n",
    "        first_date_dt = datetime.strptime(first_date_str, '%Y-%m-%d')\n",
    "        while first_date_dt < today_date_dt:\n",
    "            print(datetime.strftime(first_date_dt, '%d.%m'))\n",
    "            first_date_dt += timedelta(days=1)  "
   ]
  },
  {
   "cell_type": "code",
   "execution_count": null,
   "metadata": {},
   "outputs": [],
   "source": [
    "#Протестируем для сегодняшнего значения (запускал 09.12.18)"
   ]
  },
  {
   "cell_type": "code",
   "execution_count": 356,
   "metadata": {},
   "outputs": [
    {
     "name": "stdout",
     "output_type": "stream",
     "text": [
      "01.12\n",
      "02.12\n",
      "03.12\n",
      "04.12\n",
      "05.12\n",
      "06.12\n",
      "07.12\n",
      "08.12\n"
     ]
    }
   ],
   "source": [
    "date_range_2(today_date)"
   ]
  },
  {
   "cell_type": "code",
   "execution_count": null,
   "metadata": {},
   "outputs": [],
   "source": [
    "#Протестируем для первого декабря"
   ]
  },
  {
   "cell_type": "code",
   "execution_count": 358,
   "metadata": {},
   "outputs": [
    {
     "name": "stdout",
     "output_type": "stream",
     "text": [
      "01.11\n",
      "02.11\n",
      "03.11\n",
      "04.11\n",
      "05.11\n",
      "06.11\n",
      "07.11\n",
      "08.11\n",
      "09.11\n",
      "10.11\n",
      "11.11\n",
      "12.11\n",
      "13.11\n",
      "14.11\n",
      "15.11\n",
      "16.11\n",
      "17.11\n",
      "18.11\n",
      "19.11\n",
      "20.11\n",
      "21.11\n",
      "22.11\n",
      "23.11\n",
      "24.11\n",
      "25.11\n",
      "26.11\n",
      "27.11\n",
      "28.11\n",
      "29.11\n",
      "30.11\n"
     ]
    }
   ],
   "source": [
    "date_range_2(datetime(2018, 12, 1, 14, 53, 50, 17515))"
   ]
  },
  {
   "cell_type": "code",
   "execution_count": null,
   "metadata": {},
   "outputs": [],
   "source": [
    "#Протестируем для произвольной даты - 16 октября 2018 (дата начала учебы в Нетологии)"
   ]
  },
  {
   "cell_type": "code",
   "execution_count": 360,
   "metadata": {},
   "outputs": [
    {
     "name": "stdout",
     "output_type": "stream",
     "text": [
      "01.10\n",
      "02.10\n",
      "03.10\n",
      "04.10\n",
      "05.10\n",
      "06.10\n",
      "07.10\n",
      "08.10\n",
      "09.10\n",
      "10.10\n",
      "11.10\n",
      "12.10\n",
      "13.10\n",
      "14.10\n",
      "15.10\n"
     ]
    }
   ],
   "source": [
    "date_range_2(datetime(2018, 10, 16, 14, 53, 50, 17515))"
   ]
  },
  {
   "cell_type": "code",
   "execution_count": null,
   "metadata": {},
   "outputs": [],
   "source": [
    "Задание 5\n",
    "Напишите функцию, которая возвращает точную дату в формате YYYY-MM-DD по фразе:\n",
    "1. 'today' - сегодняшнюю дату\n",
    "2. 'last monday' -  прошлый понедельник\n",
    "3. 'last day' - Последний день текущего месяца"
   ]
  },
  {
   "cell_type": "code",
   "execution_count": null,
   "metadata": {},
   "outputs": [],
   "source": [
    "import calendar\n",
    "from datetime import date, timedelta"
   ]
  },
  {
   "cell_type": "code",
   "execution_count": null,
   "metadata": {},
   "outputs": [],
   "source": []
  },
  {
   "cell_type": "code",
   "execution_count": 5,
   "metadata": {},
   "outputs": [],
   "source": [
    "from dateutil import relativedelta"
   ]
  },
  {
   "cell_type": "code",
   "execution_count": 6,
   "metadata": {},
   "outputs": [],
   "source": [
    "import dateutil.relativedelta as relativedelta"
   ]
  },
  {
   "cell_type": "code",
   "execution_count": 7,
   "metadata": {},
   "outputs": [],
   "source": [
    "today_date = datetime.now()"
   ]
  },
  {
   "cell_type": "code",
   "execution_count": null,
   "metadata": {},
   "outputs": [],
   "source": []
  },
  {
   "cell_type": "code",
   "execution_count": null,
   "metadata": {},
   "outputs": [],
   "source": [
    "def date_request(entered_date):\n",
    "    \"\"\"Функция возвращает точную дату в формате YYYY-MM-DD по фразе:\n",
    "1. 'today' - сегодняшнюю дату\n",
    "2. 'last monday' -  прошлый понедельник\n",
    "3. 'last day' - Последний день текущего месяца\n",
    "\"\"\"\n",
    "    today_date = datetime.now()\n",
    "\n",
    "    if entered_date == 'today':\n",
    "        answer = datetime.strftime(today_date, '%Y-%m-%d')\n",
    "        return answer\n",
    "    if entered_date == 'last monday':\n",
    "        today_date_str = datetime.strftime(today_date, '%Y-%m-%d-%w')\n",
    "        today_date_dt = datetime.strptime(today_date_str, '%Y-%m-%d-%w')\n",
    "        if today_date_str[-1] == '0':\n",
    "            answer = today_date - timedelta(days=6)\n",
    "            return datetime.strftime(answer, '%Y-%m-%d')\n",
    "        if today_date_str[-1] == '1':\n",
    "            answer = today_date - timedelta(days=7)\n",
    "            return datetime.strftime(answer, '%Y-%m-%d')\n",
    "        if int(today_date_str[-1]) in [2,3,4,5,6]:\n",
    "            answer = today_date - timedelta(days=int(today_date_str[-1]))\n",
    "            return datetime.strftime(answer, '%Y-%m-%d')\n",
    "    if entered_date == 'last day':\n",
    "        today_date_str = datetime.strftime(today_date, '%Y-%m-%d')\n",
    "        today_date_dt = datetime.strptime(today_date_str, '%Y-%m-%d')\n",
    "        the_month_str = today_date_str[:7]\n",
    "        the_month_dt = datetime.strptime(the_month_str, '%Y-%m')\n",
    "        answer = the_month_dt + relativedelta.relativedelta(months=1) - timedelta(days=1)\n",
    "        return datetime.strftime(answer, '%Y-%m-%d')\n",
    "    \n"
   ]
  },
  {
   "cell_type": "code",
   "execution_count": null,
   "metadata": {},
   "outputs": [],
   "source": [
    "date_request(entered_date)"
   ]
  },
  {
   "cell_type": "code",
   "execution_count": null,
   "metadata": {},
   "outputs": [],
   "source": []
  },
  {
   "cell_type": "code",
   "execution_count": null,
   "metadata": {},
   "outputs": [],
   "source": []
  },
  {
   "cell_type": "code",
   "execution_count": null,
   "metadata": {},
   "outputs": [],
   "source": []
  },
  {
   "cell_type": "code",
   "execution_count": null,
   "metadata": {},
   "outputs": [],
   "source": []
  },
  {
   "cell_type": "code",
   "execution_count": null,
   "metadata": {},
   "outputs": [],
   "source": []
  },
  {
   "cell_type": "code",
   "execution_count": null,
   "metadata": {},
   "outputs": [],
   "source": []
  },
  {
   "cell_type": "code",
   "execution_count": null,
   "metadata": {},
   "outputs": [],
   "source": []
  },
  {
   "cell_type": "code",
   "execution_count": null,
   "metadata": {},
   "outputs": [],
   "source": [
    "\n"
   ]
  },
  {
   "cell_type": "code",
   "execution_count": null,
   "metadata": {},
   "outputs": [],
   "source": []
  },
  {
   "cell_type": "code",
   "execution_count": null,
   "metadata": {},
   "outputs": [],
   "source": []
  },
  {
   "cell_type": "code",
   "execution_count": null,
   "metadata": {},
   "outputs": [],
   "source": []
  },
  {
   "cell_type": "code",
   "execution_count": null,
   "metadata": {},
   "outputs": [],
   "source": []
  },
  {
   "cell_type": "code",
   "execution_count": null,
   "metadata": {},
   "outputs": [],
   "source": []
  },
  {
   "cell_type": "code",
   "execution_count": null,
   "metadata": {},
   "outputs": [],
   "source": []
  },
  {
   "cell_type": "code",
   "execution_count": null,
   "metadata": {},
   "outputs": [],
   "source": []
  },
  {
   "cell_type": "code",
   "execution_count": 442,
   "metadata": {},
   "outputs": [],
   "source": []
  },
  {
   "cell_type": "code",
   "execution_count": null,
   "metadata": {},
   "outputs": [],
   "source": []
  },
  {
   "cell_type": "code",
   "execution_count": null,
   "metadata": {},
   "outputs": [],
   "source": []
  },
  {
   "cell_type": "code",
   "execution_count": 445,
   "metadata": {},
   "outputs": [],
   "source": []
  },
  {
   "cell_type": "code",
   "execution_count": 448,
   "metadata": {},
   "outputs": [],
   "source": []
  },
  {
   "cell_type": "code",
   "execution_count": 451,
   "metadata": {},
   "outputs": [],
   "source": []
  },
  {
   "cell_type": "code",
   "execution_count": 456,
   "metadata": {},
   "outputs": [],
   "source": []
  },
  {
   "cell_type": "code",
   "execution_count": null,
   "metadata": {},
   "outputs": [],
   "source": []
  },
  {
   "cell_type": "code",
   "execution_count": null,
   "metadata": {},
   "outputs": [],
   "source": []
  },
  {
   "cell_type": "code",
   "execution_count": null,
   "metadata": {},
   "outputs": [],
   "source": []
  },
  {
   "cell_type": "code",
   "execution_count": null,
   "metadata": {},
   "outputs": [],
   "source": []
  },
  {
   "cell_type": "code",
   "execution_count": null,
   "metadata": {},
   "outputs": [],
   "source": []
  },
  {
   "cell_type": "code",
   "execution_count": null,
   "metadata": {},
   "outputs": [],
   "source": [
    "                     \n",
    "    "
   ]
  },
  {
   "cell_type": "code",
   "execution_count": null,
   "metadata": {},
   "outputs": [],
   "source": []
  },
  {
   "cell_type": "code",
   "execution_count": null,
   "metadata": {},
   "outputs": [],
   "source": []
  },
  {
   "cell_type": "code",
   "execution_count": null,
   "metadata": {},
   "outputs": [],
   "source": []
  },
  {
   "cell_type": "code",
   "execution_count": null,
   "metadata": {},
   "outputs": [],
   "source": []
  },
  {
   "cell_type": "code",
   "execution_count": null,
   "metadata": {},
   "outputs": [],
   "source": []
  },
  {
   "cell_type": "code",
   "execution_count": 338,
   "metadata": {},
   "outputs": [],
   "source": []
  },
  {
   "cell_type": "code",
   "execution_count": null,
   "metadata": {},
   "outputs": [],
   "source": []
  },
  {
   "cell_type": "code",
   "execution_count": null,
   "metadata": {},
   "outputs": [],
   "source": []
  },
  {
   "cell_type": "code",
   "execution_count": null,
   "metadata": {},
   "outputs": [],
   "source": []
  },
  {
   "cell_type": "code",
   "execution_count": null,
   "metadata": {},
   "outputs": [],
   "source": []
  },
  {
   "cell_type": "code",
   "execution_count": null,
   "metadata": {},
   "outputs": [],
   "source": []
  }
 ],
 "metadata": {
  "kernelspec": {
   "display_name": "Python 3",
   "language": "python",
   "name": "python3"
  },
  "language_info": {
   "codemirror_mode": {
    "name": "ipython",
    "version": 3
   },
   "file_extension": ".py",
   "mimetype": "text/x-python",
   "name": "python",
   "nbconvert_exporter": "python",
   "pygments_lexer": "ipython3",
   "version": "3.7.0"
  }
 },
 "nbformat": 4,
 "nbformat_minor": 2
}
