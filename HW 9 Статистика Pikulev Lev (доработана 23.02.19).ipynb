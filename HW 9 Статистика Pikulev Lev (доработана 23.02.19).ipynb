{
 "cells": [
  {
   "cell_type": "markdown",
   "metadata": {},
   "source": [
    "# Домашняя работа №2"
   ]
  },
  {
   "cell_type": "code",
   "execution_count": 33,
   "metadata": {},
   "outputs": [],
   "source": [
    "import pandas as pd\n",
    "from scipy import stats\n",
    "import numpy as np\n",
    "\n",
    "import seaborn as sns\n",
    "from sklearn import datasets\n",
    "from matplotlib import pyplot as plt\n",
    "from statsmodels.distributions.empirical_distribution import ECDF"
   ]
  },
  {
   "cell_type": "markdown",
   "metadata": {},
   "source": [
    "## Генеральная совокупность и выборка"
   ]
  },
  {
   "cell_type": "markdown",
   "metadata": {},
   "source": [
    "- Чем отличается генеральная совокупность от выборки?"
   ]
  },
  {
   "cell_type": "markdown",
   "metadata": {},
   "source": [
    "#### Генеральная совокупность - это все возможное множетво значений какой-то величины\n",
    "#### Выборка - ее часть, которую мы можем наблюдать и измерять"
   ]
  },
  {
   "cell_type": "markdown",
   "metadata": {},
   "source": [
    "- Если размер выборки больше 200, то такая выборка является репрезентативной?"
   ]
  },
  {
   "cell_type": "markdown",
   "metadata": {},
   "source": [
    "#### Вопрос не корректный. \n",
    "#### Выборка, чтобы считаться репрезентативной, должна обладать всеми признаками генеральной совокупности.\n",
    "#### При этом признаки должны быть распределены в таком же соотношении, как в этой генеральной совокупности."
   ]
  },
  {
   "cell_type": "markdown",
   "metadata": {},
   "source": [
    "- Измерили длину волос футболистов сборной Франции на ЧМ-2018. Что могло являться генеральной совокупностью? Приведите 3 примера."
   ]
  },
  {
   "cell_type": "markdown",
   "metadata": {},
   "source": [
    "#### 1. Длины волос игроков всех команд, приехавших на ЧМ\n",
    "#### 2. Длины волос игроков всех команд из стран Западной Европы, приехавших на ЧМ\n",
    "#### 3. Длины волос игроков французской команды за все Чемпионаты"
   ]
  },
  {
   "cell_type": "markdown",
   "metadata": {},
   "source": [
    "- Пусть генеральная совокупность --- вес детей, родившихся в Волгограде за последние 10 лет. Предложите 2 стратегии, как сгенерировать выборку."
   ]
  },
  {
   "cell_type": "markdown",
   "metadata": {},
   "source": [
    "#### Взять выборку за конкретный год (например 2017)\n",
    "#### Взять выборку из весов детей, родившихся каждое первое число каждого месяца (примерно 12/365 от генеральной совокупности)"
   ]
  },
  {
   "cell_type": "markdown",
   "metadata": {},
   "source": [
    "## Параметры центра и разброса"
   ]
  },
  {
   "cell_type": "markdown",
   "metadata": {},
   "source": [
    "- Постройте распределение, у которого отсутствует мода.\n"
   ]
  },
  {
   "cell_type": "code",
   "execution_count": 32,
   "metadata": {},
   "outputs": [],
   "source": [
    "import pandas as pd\n",
    "import numpy as np\n",
    "import matplotlib.pyplot as plt\n",
    "import scipy.stats as sts # библиотека для задания случайных величин\n",
    "%matplotlib inline"
   ]
  },
  {
   "cell_type": "code",
   "execution_count": 99,
   "metadata": {
    "scrolled": true
   },
   "outputs": [
    {
     "data": {
      "text/plain": [
       "[<matplotlib.lines.Line2D at 0x1b06f9149b0>]"
      ]
     },
     "execution_count": 99,
     "metadata": {},
     "output_type": "execute_result"
    },
    {
     "data": {
      "image/png": "[encoded data removed]",
      "text/plain": [
       "<Figure size 432x288 with 1 Axes>"
      ]
     },
     "metadata": {
      "needs_background": "light"
     },
     "output_type": "display_data"
    }
   ],
   "source": [
    "a = 1\n",
    "b = 5\n",
    "\n",
    "x = np.linspace(a, b, 7500)\n",
    "pdf = uniform_rv.pdf(x) # плотность распределения вероятностей\n",
    "plt.plot(x, pdf)\n"
   ]
  },
  {
   "cell_type": "markdown",
   "metadata": {},
   "source": [
    "- Какая из статистик (медиана, матожидание) будет наиболее неустойчивой при выбросах? Проверить на выборке из Гамма-распределения. "
   ]
  },
  {
   "cell_type": "code",
   "execution_count": 22,
   "metadata": {
    "scrolled": true
   },
   "outputs": [],
   "source": [
    "gamma_rv = sts.gamma(3, 1)\n",
    "sample = gamma_rv.rvs(51)\n",
    "med = sorted(sample)[26]\n",
    "mean = sample.mean()\n"
   ]
  },
  {
   "cell_type": "code",
   "execution_count": 23,
   "metadata": {},
   "outputs": [
    {
     "data": {
      "text/plain": [
       "3.501238693829297"
      ]
     },
     "execution_count": 23,
     "metadata": {},
     "output_type": "execute_result"
    }
   ],
   "source": [
    "# посмотрим на медиану\n",
    "med"
   ]
  },
  {
   "cell_type": "code",
   "execution_count": 24,
   "metadata": {},
   "outputs": [
    {
     "data": {
      "text/plain": [
       "3.9948769506412782"
      ]
     },
     "execution_count": 24,
     "metadata": {},
     "output_type": "execute_result"
    }
   ],
   "source": [
    "# посмотрим на матож\n",
    "mean"
   ]
  },
  {
   "cell_type": "code",
   "execution_count": 25,
   "metadata": {},
   "outputs": [],
   "source": [
    "#пусть выброс будет равен 9\n",
    "overshoot = 50\n",
    "sample[50] = overshoot\n"
   ]
  },
  {
   "cell_type": "code",
   "execution_count": 26,
   "metadata": {},
   "outputs": [],
   "source": [
    "from copy import copy\n",
    "sample_with_overshoot = copy(sample)\n",
    "new_med = sorted(sample_with_overshoot)[25]\n",
    "new_mean = sample_with_overshoot.mean()"
   ]
  },
  {
   "cell_type": "code",
   "execution_count": 27,
   "metadata": {},
   "outputs": [
    {
     "data": {
      "text/plain": [
       "3.501238693829297"
      ]
     },
     "execution_count": 27,
     "metadata": {},
     "output_type": "execute_result"
    }
   ],
   "source": [
    "# посмотрим на новую медиану. Она не поменялась\n",
    "new_med"
   ]
  },
  {
   "cell_type": "code",
   "execution_count": 28,
   "metadata": {},
   "outputs": [
    {
     "data": {
      "text/plain": [
       "True"
      ]
     },
     "execution_count": 28,
     "metadata": {},
     "output_type": "execute_result"
    }
   ],
   "source": [
    "new_med == med"
   ]
  },
  {
   "cell_type": "code",
   "execution_count": 29,
   "metadata": {},
   "outputs": [
    {
     "data": {
      "text/plain": [
       "4.907537561824016"
      ]
     },
     "execution_count": 29,
     "metadata": {},
     "output_type": "execute_result"
    }
   ],
   "source": [
    "# посмотрим на новое мат ожидание.\n",
    "new_mean"
   ]
  },
  {
   "cell_type": "code",
   "execution_count": 30,
   "metadata": {},
   "outputs": [
    {
     "data": {
      "text/plain": [
       "0.912660611182738"
      ]
     },
     "execution_count": 30,
     "metadata": {},
     "output_type": "execute_result"
    }
   ],
   "source": [
    "# значение выросло на \n",
    "new_mean - mean"
   ]
  },
  {
   "cell_type": "markdown",
   "metadata": {},
   "source": [
    "#### Вывод: выброс, какой бы он ни был, при неизменном количестве элементов в массиве не влияет на медиану. По обе стороны от нее по половине значений\n",
    "#### А среднее значение будет отклоняться в сторону выброса тем сильнее, чем больше выброс."
   ]
  },
  {
   "cell_type": "markdown",
   "metadata": {},
   "source": [
    "- Как изменится матожидание, если к выборке добавить константу $C$? Умножить на $C$. \n",
    "\n",
    "Проверите на выборке из распределения Пуассона"
   ]
  },
  {
   "cell_type": "code",
   "execution_count": 113,
   "metadata": {},
   "outputs": [],
   "source": [
    "pois_rv = stats.poisson(2)\n",
    "sample = pois_rv.rvs(100)\n",
    "C = 0.5\n",
    "#your code here\n",
    "mean = sample.mean()\n",
    "mean_with_c = (sample + C).mean()\n",
    "mean_mult_c = (sample * C).mean()"
   ]
  },
  {
   "cell_type": "code",
   "execution_count": 114,
   "metadata": {},
   "outputs": [
    {
     "data": {
      "text/plain": [
       "array([1, 1, 2, 1, 1, 3, 4, 1, 0, 2, 0, 0, 2, 1, 1, 1, 2, 3, 1, 2, 2, 5,\n",
       "       2, 3, 5, 0, 2, 2, 1, 0, 1, 1, 4, 1, 3, 2, 2, 3, 1, 1, 4, 3, 4, 2,\n",
       "       1, 2, 0, 1, 2, 1, 2, 5, 1, 2, 1, 4, 2, 1, 4, 2, 5, 1, 1, 0, 3, 3,\n",
       "       1, 1, 1, 4, 3, 1, 0, 1, 3, 1, 3, 2, 2, 0, 4, 2, 1, 6, 1, 4, 4, 3,\n",
       "       2, 2, 1, 4, 0, 2, 4, 2, 2, 0, 1, 3])"
      ]
     },
     "execution_count": 114,
     "metadata": {},
     "output_type": "execute_result"
    }
   ],
   "source": [
    "sample"
   ]
  },
  {
   "cell_type": "code",
   "execution_count": 115,
   "metadata": {
    "scrolled": true
   },
   "outputs": [
    {
     "data": {
      "text/plain": [
       "array([1.5, 1.5, 2.5, 1.5, 1.5, 3.5, 4.5, 1.5, 0.5, 2.5, 0.5, 0.5, 2.5,\n",
       "       1.5, 1.5, 1.5, 2.5, 3.5, 1.5, 2.5, 2.5, 5.5, 2.5, 3.5, 5.5, 0.5,\n",
       "       2.5, 2.5, 1.5, 0.5, 1.5, 1.5, 4.5, 1.5, 3.5, 2.5, 2.5, 3.5, 1.5,\n",
       "       1.5, 4.5, 3.5, 4.5, 2.5, 1.5, 2.5, 0.5, 1.5, 2.5, 1.5, 2.5, 5.5,\n",
       "       1.5, 2.5, 1.5, 4.5, 2.5, 1.5, 4.5, 2.5, 5.5, 1.5, 1.5, 0.5, 3.5,\n",
       "       3.5, 1.5, 1.5, 1.5, 4.5, 3.5, 1.5, 0.5, 1.5, 3.5, 1.5, 3.5, 2.5,\n",
       "       2.5, 0.5, 4.5, 2.5, 1.5, 6.5, 1.5, 4.5, 4.5, 3.5, 2.5, 2.5, 1.5,\n",
       "       4.5, 0.5, 2.5, 4.5, 2.5, 2.5, 0.5, 1.5, 3.5])"
      ]
     },
     "execution_count": 115,
     "metadata": {},
     "output_type": "execute_result"
    }
   ],
   "source": [
    "sample + C"
   ]
  },
  {
   "cell_type": "code",
   "execution_count": 116,
   "metadata": {},
   "outputs": [
    {
     "data": {
      "text/plain": [
       "array([0.5, 0.5, 1. , 0.5, 0.5, 1.5, 2. , 0.5, 0. , 1. , 0. , 0. , 1. ,\n",
       "       0.5, 0.5, 0.5, 1. , 1.5, 0.5, 1. , 1. , 2.5, 1. , 1.5, 2.5, 0. ,\n",
       "       1. , 1. , 0.5, 0. , 0.5, 0.5, 2. , 0.5, 1.5, 1. , 1. , 1.5, 0.5,\n",
       "       0.5, 2. , 1.5, 2. , 1. , 0.5, 1. , 0. , 0.5, 1. , 0.5, 1. , 2.5,\n",
       "       0.5, 1. , 0.5, 2. , 1. , 0.5, 2. , 1. , 2.5, 0.5, 0.5, 0. , 1.5,\n",
       "       1.5, 0.5, 0.5, 0.5, 2. , 1.5, 0.5, 0. , 0.5, 1.5, 0.5, 1.5, 1. ,\n",
       "       1. , 0. , 2. , 1. , 0.5, 3. , 0.5, 2. , 2. , 1.5, 1. , 1. , 0.5,\n",
       "       2. , 0. , 1. , 2. , 1. , 1. , 0. , 0.5, 1.5])"
      ]
     },
     "execution_count": 116,
     "metadata": {},
     "output_type": "execute_result"
    }
   ],
   "source": [
    "sample * C"
   ]
  },
  {
   "cell_type": "code",
   "execution_count": 118,
   "metadata": {},
   "outputs": [
    {
     "name": "stdout",
     "output_type": "stream",
     "text": [
      "mean=1.98, mean_with_c =2.48, mean_mult_c = 0.99\n"
     ]
    }
   ],
   "source": [
    "print(f'mean={mean}, mean_with_c ={mean_with_c}, mean_mult_c = {mean_mult_c}')"
   ]
  },
  {
   "cell_type": "code",
   "execution_count": null,
   "metadata": {},
   "outputs": [],
   "source": [
    "# Добавление константы к значениям элементов массива смещает мат ожидание на величину этой константы\n",
    "# Аналогично с операцией умножения."
   ]
  },
  {
   "cell_type": "markdown",
   "metadata": {},
   "source": [
    "- Как изменится дисперсия при добавлении выбросов? Проверьте для распределения экспоненциального распределения"
   ]
  },
  {
   "cell_type": "code",
   "execution_count": 137,
   "metadata": {},
   "outputs": [],
   "source": [
    "exp_rv = stats.expon(4)\n",
    "sample = exp_rv.rvs(50)\n",
    "var = sample.var()\n",
    "\n",
    "#your code here\n",
    "overshoot = 9"
   ]
  },
  {
   "cell_type": "code",
   "execution_count": 138,
   "metadata": {
    "scrolled": true
   },
   "outputs": [
    {
     "data": {
      "text/plain": [
       "array([4.06126234, 4.35571441, 4.36974281, 6.10274132, 4.3999212 ,\n",
       "       4.5454776 , 4.36215132, 5.16420677, 4.98839582, 4.74809289,\n",
       "       4.04041821, 6.41733477, 4.10822624, 5.55321447, 4.97458238,\n",
       "       6.1541647 , 4.23250976, 4.62982813, 7.39369586, 4.44568332,\n",
       "       4.2972753 , 4.01211551, 4.98149396, 4.08146153, 4.08627887,\n",
       "       9.3689844 , 4.09326141, 4.61030809, 4.7924637 , 5.10890563,\n",
       "       5.6156065 , 4.43315854, 6.09901261, 6.68497372, 4.47344291,\n",
       "       5.82123775, 4.41032572, 4.06613673, 5.23219852, 4.4492847 ,\n",
       "       4.67795062, 4.44731892, 4.01896399, 7.03296917, 5.09812816,\n",
       "       4.22209634, 4.13197833, 5.1600138 , 5.27063177, 6.25217622])"
      ]
     },
     "execution_count": 138,
     "metadata": {},
     "output_type": "execute_result"
    }
   ],
   "source": [
    "# посмотрим на sample\n",
    "sample"
   ]
  },
  {
   "cell_type": "code",
   "execution_count": 139,
   "metadata": {},
   "outputs": [],
   "source": [
    "# создадим новый массив с помощью copy\n",
    "sample_with_overshoot = copy(sample)"
   ]
  },
  {
   "cell_type": "code",
   "execution_count": 143,
   "metadata": {
    "scrolled": true
   },
   "outputs": [
    {
     "data": {
      "text/plain": [
       "array([4.5454776 , 5.16420677, 4.06613673])"
      ]
     },
     "execution_count": 143,
     "metadata": {},
     "output_type": "execute_result"
    }
   ],
   "source": [
    "# пусть элементы 4-й, 6-й и 36-й будут выбросами\n",
    "sample_with_overshoot[[5,7,37]]"
   ]
  },
  {
   "cell_type": "code",
   "execution_count": 144,
   "metadata": {},
   "outputs": [],
   "source": [
    "sample_with_overshoot[[5,7,37]] = overshoot"
   ]
  },
  {
   "cell_type": "code",
   "execution_count": 145,
   "metadata": {
    "scrolled": false
   },
   "outputs": [
    {
     "data": {
      "text/plain": [
       "array([4.06126234, 4.35571441, 4.36974281, 6.10274132, 4.3999212 ,\n",
       "       9.        , 4.36215132, 9.        , 4.98839582, 4.74809289,\n",
       "       4.04041821, 6.41733477, 4.10822624, 5.55321447, 4.97458238,\n",
       "       6.1541647 , 4.23250976, 4.62982813, 7.39369586, 4.44568332,\n",
       "       4.2972753 , 4.01211551, 4.98149396, 4.08146153, 4.08627887,\n",
       "       9.3689844 , 4.09326141, 4.61030809, 4.7924637 , 5.10890563,\n",
       "       5.6156065 , 4.43315854, 6.09901261, 6.68497372, 4.47344291,\n",
       "       5.82123775, 4.41032572, 9.        , 5.23219852, 4.4492847 ,\n",
       "       4.67795062, 4.44731892, 4.01896399, 7.03296917, 5.09812816,\n",
       "       4.22209634, 4.13197833, 5.1600138 , 5.27063177, 6.25217622])"
      ]
     },
     "execution_count": 145,
     "metadata": {},
     "output_type": "execute_result"
    }
   ],
   "source": [
    "# проверим, появились ли выбросы\n",
    "sample_with_overshoot"
   ]
  },
  {
   "cell_type": "code",
   "execution_count": 146,
   "metadata": {},
   "outputs": [
    {
     "data": {
      "text/plain": [
       "1.970746836423141"
      ]
     },
     "execution_count": 146,
     "metadata": {},
     "output_type": "execute_result"
    }
   ],
   "source": [
    "# дисперсия нового массива с выбросами\n",
    "new_var = sample_with_overshoot.var()\n",
    "new_var"
   ]
  },
  {
   "cell_type": "code",
   "execution_count": 147,
   "metadata": {},
   "outputs": [
    {
     "data": {
      "text/plain": [
       "1.1036315880044598"
      ]
     },
     "execution_count": 147,
     "metadata": {},
     "output_type": "execute_result"
    }
   ],
   "source": [
    "# дисперсия первоначального массива без выбросов\n",
    "var"
   ]
  },
  {
   "cell_type": "code",
   "execution_count": null,
   "metadata": {},
   "outputs": [],
   "source": [
    "# видим, что три крупных выброса существенно повлияли на величину дисперсии"
   ]
  },
  {
   "cell_type": "markdown",
   "metadata": {},
   "source": [
    "- Что шире: интерквантильный размах ($X_{0.75} - X_{0.25}$) или $(\\bar{X}-s^2, \\bar{X}+s^2)$ для $\\mathcal{N}(a, \\sigma^2)$. Посчитайте и сравните эти интервалы для распредения $\\mathcal{N}(3,1)$"
   ]
  },
  {
   "cell_type": "markdown",
   "metadata": {},
   "source": [
    "Вспомним формулы:"
   ]
  },
  {
   "cell_type": "markdown",
   "metadata": {},
   "source": [
    "#### Выборочная дисперсия\n",
    "\n",
    "$$s^2 = \\frac{1}{n-1} \\sum_i (X_i - \\bar{X})^2 $$"
   ]
  },
  {
   "cell_type": "markdown",
   "metadata": {},
   "source": [
    "**Интерквартильный размах** \n",
    "$$IQR  = X_{0.75} - X_{0.25} $$"
   ]
  },
  {
   "cell_type": "markdown",
   "metadata": {},
   "source": [
    "#### Матожидание\n",
    "\n",
    "$$\\bar{X} = \\frac 1n \\sum_i X_i - \\text{выборочное среднее} $$"
   ]
  },
  {
   "cell_type": "code",
   "execution_count": 152,
   "metadata": {},
   "outputs": [],
   "source": [
    "norm_rv = stats.norm(3,1)\n",
    "sample = norm_rv.rvs(1000)\n"
   ]
  },
  {
   "cell_type": "code",
   "execution_count": 160,
   "metadata": {
    "scrolled": false
   },
   "outputs": [],
   "source": [
    "# отсортируем выборку\n",
    "sorted_sample = sorted(sample)"
   ]
  },
  {
   "cell_type": "code",
   "execution_count": 162,
   "metadata": {},
   "outputs": [
    {
     "data": {
      "text/plain": [
       "[0.09287749424256697,\n",
       " 0.11066467564923199,\n",
       " 0.2753799121593965,\n",
       " 0.338921670882518,\n",
       " 0.4693915235538735,\n",
       " 0.5646475546955965,\n",
       " 0.6275567180974613,\n",
       " 0.6323325806441731,\n",
       " 0.6375938150358462,\n",
       " 0.6535777555294868,\n",
       " 0.686728171040766,\n",
       " 0.6920860462065792,\n",
       " 0.7105759456592029,\n",
       " 0.7164825755194442,\n",
       " 0.7604758707936154,\n",
       " 0.7803410042003569,\n",
       " 0.7925663329806749,\n",
       " 0.795656178250443,\n",
       " 0.8357248074676122,\n",
       " 0.8686012402342609,\n",
       " 0.8793206041839348,\n",
       " 0.8898849715691308,\n",
       " 0.9371404463452979,\n",
       " 0.9567219365091604,\n",
       " 0.9705954962773866,\n",
       " 0.9970613413069116,\n",
       " 1.010255949924647,\n",
       " 1.0130763589015512,\n",
       " 1.0582315919275291,\n",
       " 1.090268661717479,\n",
       " 1.114889773359133,\n",
       " 1.1264692864154298,\n",
       " 1.1269630297967101,\n",
       " 1.1385509496326933,\n",
       " 1.1595807116009218,\n",
       " 1.1647838642834023,\n",
       " 1.1711035152620684,\n",
       " 1.1742605901019914,\n",
       " 1.182014843634568,\n",
       " 1.1847079038168848,\n",
       " 1.1917746907295899,\n",
       " 1.1948166706083523,\n",
       " 1.2035158174036793,\n",
       " 1.207963749823337,\n",
       " 1.2083978936876474,\n",
       " 1.2217329940446973,\n",
       " 1.235528514321589,\n",
       " 1.2406494386030449,\n",
       " 1.2543727029951968,\n",
       " 1.2572022608988715,\n",
       " 1.2746756625442877,\n",
       " 1.2850120588315463,\n",
       " 1.2977321972624232,\n",
       " 1.3082004384558372,\n",
       " 1.3082583112270785,\n",
       " 1.3110064312007341,\n",
       " 1.3150299097275084,\n",
       " 1.3247460645275828,\n",
       " 1.3301519993059092,\n",
       " 1.3307717617126367,\n",
       " 1.3448596962333133,\n",
       " 1.3514941511044876,\n",
       " 1.358517246760199,\n",
       " 1.3692030094108159,\n",
       " 1.372589805313163,\n",
       " 1.3733810704355558,\n",
       " 1.3917968113895878,\n",
       " 1.3971037483622946,\n",
       " 1.4015943201428331,\n",
       " 1.416277305701598,\n",
       " 1.4254025655673468,\n",
       " 1.43461574683098,\n",
       " 1.4428148461445685,\n",
       " 1.4546009573680987,\n",
       " 1.4565375051852874,\n",
       " 1.4570296948961972,\n",
       " 1.4636086772569668,\n",
       " 1.4671070028895166,\n",
       " 1.5015505613207403,\n",
       " 1.5048557288947912,\n",
       " 1.5148303195245505,\n",
       " 1.5219087396665563,\n",
       " 1.5282120135380446,\n",
       " 1.5300497848462908,\n",
       " 1.5321461040896298,\n",
       " 1.532960106434274,\n",
       " 1.5341960544398294,\n",
       " 1.5426519960563425,\n",
       " 1.5508834065985515,\n",
       " 1.5560732012366774,\n",
       " 1.5782518303076458,\n",
       " 1.5825438093264557,\n",
       " 1.5852613528932087,\n",
       " 1.5874827637244944,\n",
       " 1.5905101690513759,\n",
       " 1.5925859981471546,\n",
       " 1.5970131624226558,\n",
       " 1.6012389788768653,\n",
       " 1.601259301964562,\n",
       " 1.6049848649323974,\n",
       " 1.6182233180455976,\n",
       " 1.6285476407876782,\n",
       " 1.6308196131502912,\n",
       " 1.634501656943082,\n",
       " 1.6417145804790036,\n",
       " 1.6425341650074983,\n",
       " 1.6446640457705448,\n",
       " 1.644705739537905,\n",
       " 1.6469503184653869,\n",
       " 1.6485120476137094,\n",
       " 1.6526271503366352,\n",
       " 1.6616140985748968,\n",
       " 1.6635991351292287,\n",
       " 1.6692091087718657,\n",
       " 1.6728889095750858,\n",
       " 1.676107867395594,\n",
       " 1.6877469792072697,\n",
       " 1.7092643260160116,\n",
       " 1.7276096135879786,\n",
       " 1.7392781016416188,\n",
       " 1.7536876802047532,\n",
       " 1.7549668422747344,\n",
       " 1.7611112541838145,\n",
       " 1.7612047956956725,\n",
       " 1.7613790333876695,\n",
       " 1.7641556688557234,\n",
       " 1.7823874653066274,\n",
       " 1.7994055935574087,\n",
       " 1.8077625956801044,\n",
       " 1.818443005880636,\n",
       " 1.8410839566981279,\n",
       " 1.8505908012780383,\n",
       " 1.852684708836851,\n",
       " 1.867471761158156,\n",
       " 1.8676366196192815,\n",
       " 1.8690651777100489,\n",
       " 1.8705980901778982,\n",
       " 1.8732269474491665,\n",
       " 1.8784412162550614,\n",
       " 1.8792815131375429,\n",
       " 1.8812935671602333,\n",
       " 1.8816434346471715,\n",
       " 1.8847572930749437,\n",
       " 1.8877411339008836,\n",
       " 1.8887533785795645,\n",
       " 1.88897326100156,\n",
       " 1.8961388794696807,\n",
       " 1.9038342932445034,\n",
       " 1.9074168539193803,\n",
       " 1.9124634219840393,\n",
       " 1.917972753990499,\n",
       " 1.9188824690230188,\n",
       " 1.9215169795496478,\n",
       " 1.924715223724325,\n",
       " 1.9292711745651552,\n",
       " 1.9306340672756646,\n",
       " 1.9377410354942972,\n",
       " 1.9466690174164787,\n",
       " 1.9507034074319622,\n",
       " 1.951455236685618,\n",
       " 1.9563184930236546,\n",
       " 1.9587966250454105,\n",
       " 1.9648209886028136,\n",
       " 1.970027238953305,\n",
       " 1.9758506208647917,\n",
       " 1.9765648336094488,\n",
       " 1.9814498700236605,\n",
       " 1.991219609820329,\n",
       " 1.9915106581423796,\n",
       " 1.9962940977289583,\n",
       " 1.9989208740520037,\n",
       " 1.9998235305824348,\n",
       " 2.0014471205359237,\n",
       " 2.001830199818606,\n",
       " 2.0097094533787754,\n",
       " 2.0195783820676265,\n",
       " 2.021603681024862,\n",
       " 2.0235779158701312,\n",
       " 2.027639442779921,\n",
       " 2.0291972631383492,\n",
       " 2.0296699134267184,\n",
       " 2.0297900681177343,\n",
       " 2.032465561550697,\n",
       " 2.0368703929951963,\n",
       " 2.0381631458102736,\n",
       " 2.038628165297585,\n",
       " 2.0413160592399864,\n",
       " 2.0441466562401374,\n",
       " 2.0463258407370732,\n",
       " 2.046601606955004,\n",
       " 2.0534735374738684,\n",
       " 2.054033513356073,\n",
       " 2.0751491328531673,\n",
       " 2.078992097828819,\n",
       " 2.086755568954524,\n",
       " 2.0909194297226885,\n",
       " 2.095741106108317,\n",
       " 2.096721757129907,\n",
       " 2.1001561437144978,\n",
       " 2.1002269037438577,\n",
       " 2.1018435856909794,\n",
       " 2.10373125223493,\n",
       " 2.1057500760629564,\n",
       " 2.112167075762749,\n",
       " 2.1144804824833923,\n",
       " 2.1166397631351943,\n",
       " 2.1167816194793834,\n",
       " 2.1243085649330626,\n",
       " 2.12962720835716,\n",
       " 2.1313845149340516,\n",
       " 2.1570612354321064,\n",
       " 2.158930718215544,\n",
       " 2.160811505899346,\n",
       " 2.1625204908743747,\n",
       " 2.166297474007831,\n",
       " 2.1685619298005934,\n",
       " 2.1689780024183953,\n",
       " 2.17193631512222,\n",
       " 2.1748916487555823,\n",
       " 2.175243319001808,\n",
       " 2.175823131471705,\n",
       " 2.184200689800595,\n",
       " 2.1863116335747153,\n",
       " 2.1901198759955607,\n",
       " 2.1932309391175115,\n",
       " 2.1969874117110186,\n",
       " 2.1972112826163057,\n",
       " 2.202234960944005,\n",
       " 2.2088276225110994,\n",
       " 2.210320013096318,\n",
       " 2.2128298292949924,\n",
       " 2.2154600742592097,\n",
       " 2.2178939851055475,\n",
       " 2.220790091866132,\n",
       " 2.2304376148303073,\n",
       " 2.2335167449516398,\n",
       " 2.2366442316308763,\n",
       " 2.2405105655905193,\n",
       " 2.2476045571375685,\n",
       " 2.2476694366297814,\n",
       " 2.2497868382354547,\n",
       " 2.251809701410045,\n",
       " 2.253374854921465,\n",
       " 2.2574720188922934,\n",
       " 2.2656793432779145,\n",
       " 2.266563290776859,\n",
       " 2.273061287650618,\n",
       " 2.27387840101691,\n",
       " 2.2750743143519596,\n",
       " 2.2862123463556525,\n",
       " 2.2883275248998753,\n",
       " 2.2938581287483957,\n",
       " 2.29868966349993,\n",
       " 2.301803488163215,\n",
       " 2.3033132632182456,\n",
       " 2.304717671737,\n",
       " 2.3049422563034128,\n",
       " 2.3113288697119883,\n",
       " 2.3148638114479247,\n",
       " 2.3150122604097154,\n",
       " 2.315519201070722,\n",
       " 2.31969786010403,\n",
       " 2.3208767340980594,\n",
       " 2.3221568925794616,\n",
       " 2.322533252157808,\n",
       " 2.3225587323016534,\n",
       " 2.323149370581061,\n",
       " 2.3245846987639385,\n",
       " 2.325363322626455,\n",
       " 2.3307683112670934,\n",
       " 2.331850269515328,\n",
       " 2.3347762589707686,\n",
       " 2.3389946943329347,\n",
       " 2.3392343599093395,\n",
       " 2.3394870381175084,\n",
       " 2.340590545478409,\n",
       " 2.3437760925984183,\n",
       " 2.347830238260331,\n",
       " 2.3480421482570852,\n",
       " 2.3490312770417012,\n",
       " 2.3498294404499154,\n",
       " 2.349934227084129,\n",
       " 2.351135844809769,\n",
       " 2.3522086199926595,\n",
       " 2.3533842993702105,\n",
       " 2.3572425788441618,\n",
       " 2.3576324927507937,\n",
       " 2.3577042495713716,\n",
       " 2.35788212248816,\n",
       " 2.3589678960603706,\n",
       " 2.360438654024304,\n",
       " 2.364757136606589,\n",
       " 2.3703196598740894,\n",
       " 2.3807546381430655,\n",
       " 2.3886697559721104,\n",
       " 2.389941647970587,\n",
       " 2.3899837174698355,\n",
       " 2.3905679751928903,\n",
       " 2.4007429686113833,\n",
       " 2.4051522485704715,\n",
       " 2.408814740749176,\n",
       " 2.4090197096494164,\n",
       " 2.410837987252228,\n",
       " 2.411017474490775,\n",
       " 2.4227552715535934,\n",
       " 2.425664116117055,\n",
       " 2.42935162224596,\n",
       " 2.4301247228679874,\n",
       " 2.4325063288416873,\n",
       " 2.4340934300432115,\n",
       " 2.436658827098521,\n",
       " 2.4369791601904116,\n",
       " 2.437397319425658,\n",
       " 2.437603376293082,\n",
       " 2.4378490637405,\n",
       " 2.447070859936172,\n",
       " 2.449547867242199,\n",
       " 2.4547804867407317,\n",
       " 2.4558289512544738,\n",
       " 2.4582316192914857,\n",
       " 2.4606109098020963,\n",
       " 2.463830905115234,\n",
       " 2.468521140725403,\n",
       " 2.4688143702845036,\n",
       " 2.471837864056971,\n",
       " 2.476442219702185,\n",
       " 2.47664999624418,\n",
       " 2.4803328469123476,\n",
       " 2.480674712442093,\n",
       " 2.4844787588620942,\n",
       " 2.487149136226691,\n",
       " 2.4923360047822753,\n",
       " 2.493057829745322,\n",
       " 2.4943223998683832,\n",
       " 2.496714398610958,\n",
       " 2.500460546212214,\n",
       " 2.5006208921242847,\n",
       " 2.505697940122012,\n",
       " 2.513351581746848,\n",
       " 2.514275685491011,\n",
       " 2.515623044334561,\n",
       " 2.5211077211719974,\n",
       " 2.523343076745273,\n",
       " 2.53121515512965,\n",
       " 2.531265284952225,\n",
       " 2.5354117147971955,\n",
       " 2.5402357664388244,\n",
       " 2.5439289701006134,\n",
       " 2.5449676861168413,\n",
       " 2.546169007260093,\n",
       " 2.5505483129123028,\n",
       " 2.55414166737979,\n",
       " 2.5545684373714073,\n",
       " 2.5549153856800437,\n",
       " 2.5621611663564057,\n",
       " 2.564625898149398,\n",
       " 2.5675073357567015,\n",
       " 2.569447299871641,\n",
       " 2.573560755183984,\n",
       " 2.574754269588746,\n",
       " 2.5772092131667166,\n",
       " 2.5808162329266615,\n",
       " 2.5836295314519866,\n",
       " 2.585881203242397,\n",
       " 2.588784310668277,\n",
       " 2.5908963397622604,\n",
       " 2.5927897036946987,\n",
       " 2.601274055695507,\n",
       " 2.6014546959480396,\n",
       " 2.601855855700854,\n",
       " 2.6041196661567185,\n",
       " 2.604955739036096,\n",
       " 2.60865191555082,\n",
       " 2.6086930878609724,\n",
       " 2.6112730297824527,\n",
       " 2.6116498021585204,\n",
       " 2.6123475153095126,\n",
       " 2.616630543766803,\n",
       " 2.6205167795492454,\n",
       " 2.6208104586372345,\n",
       " 2.62128799301321,\n",
       " 2.628801147742791,\n",
       " 2.628852201504392,\n",
       " 2.628855143652876,\n",
       " 2.6296696849850703,\n",
       " 2.6305583068829144,\n",
       " 2.6387842890544975,\n",
       " 2.6422205704225172,\n",
       " 2.6427711891452628,\n",
       " 2.643056504329295,\n",
       " 2.6449810617852623,\n",
       " 2.647940131227294,\n",
       " 2.6493721244847848,\n",
       " 2.652132267210731,\n",
       " 2.6559744008009085,\n",
       " 2.6566310039698187,\n",
       " 2.664621638205843,\n",
       " 2.664874119758608,\n",
       " 2.6650077186959376,\n",
       " 2.6652306458931223,\n",
       " 2.6665574682222792,\n",
       " 2.672403257196972,\n",
       " 2.6732000820749686,\n",
       " 2.673353458116184,\n",
       " 2.675049360675148,\n",
       " 2.675226702669381,\n",
       " 2.676275704618388,\n",
       " 2.677358875587275,\n",
       " 2.6828857867246785,\n",
       " 2.6838372563032693,\n",
       " 2.684663307508256,\n",
       " 2.6858007959086576,\n",
       " 2.6893148450151445,\n",
       " 2.6899393999546537,\n",
       " 2.691760616526428,\n",
       " 2.695359656421474,\n",
       " 2.6956817564369353,\n",
       " 2.6957095637366115,\n",
       " 2.6960473000699814,\n",
       " 2.696379044618637,\n",
       " 2.6997129279685157,\n",
       " 2.7004369613145616,\n",
       " 2.7013355389895684,\n",
       " 2.701662052953373,\n",
       " 2.7017683510830093,\n",
       " 2.7023800337909885,\n",
       " 2.7027928631647558,\n",
       " 2.7033788609519216,\n",
       " 2.708252634724618,\n",
       " 2.7093468111923453,\n",
       " 2.7095798680033654,\n",
       " 2.7098175258644845,\n",
       " 2.713975843832251,\n",
       " 2.7142593894256604,\n",
       " 2.7150753174439988,\n",
       " 2.715844639286514,\n",
       " 2.71943061279211,\n",
       " 2.720543234927133,\n",
       " 2.7212219063564005,\n",
       " 2.726284960304381,\n",
       " 2.7300731560951306,\n",
       " 2.7313670071225333,\n",
       " 2.7353734236677307,\n",
       " 2.7358640111368295,\n",
       " 2.737474523939465,\n",
       " 2.737704207617327,\n",
       " 2.737749787628297,\n",
       " 2.7384065172317342,\n",
       " 2.7389024779102655,\n",
       " 2.74105549518898,\n",
       " 2.744456739364527,\n",
       " 2.7516382007793947,\n",
       " 2.7520175156547064,\n",
       " 2.752529235487735,\n",
       " 2.75375670237952,\n",
       " 2.759726917395156,\n",
       " 2.7613062591300093,\n",
       " 2.762143909575581,\n",
       " 2.762269857278098,\n",
       " 2.767505656804592,\n",
       " 2.7676106155995854,\n",
       " 2.770043606804817,\n",
       " 2.7706430177638754,\n",
       " 2.7714500964537416,\n",
       " 2.7718862012191563,\n",
       " 2.7843894325842102,\n",
       " 2.786222970321267,\n",
       " 2.7921013915562387,\n",
       " 2.7942649853204835,\n",
       " 2.7952676696456633,\n",
       " 2.7964604655254837,\n",
       " 2.798536540926686,\n",
       " 2.8000081127498166,\n",
       " 2.8007216528756884,\n",
       " 2.8017833944469226,\n",
       " 2.8071326408771653,\n",
       " 2.810263516080896,\n",
       " 2.818118391689384,\n",
       " 2.8210280223098296,\n",
       " 2.8221224216985705,\n",
       " 2.8267693115977255,\n",
       " 2.831912028038894,\n",
       " 2.836978296060582,\n",
       " 2.8390181761174977,\n",
       " 2.8429003101795214,\n",
       " 2.8432430708100878,\n",
       " 2.8433168955068826,\n",
       " 2.8447980927956893,\n",
       " 2.846723040788992,\n",
       " 2.8545800171509095,\n",
       " 2.8589955088804704,\n",
       " 2.860086152419252,\n",
       " 2.8617626425981757,\n",
       " 2.873477140606738,\n",
       " 2.8739302313666286,\n",
       " 2.8769731584469493,\n",
       " 2.8832069937059117,\n",
       " 2.887155556628614,\n",
       " 2.887910011333772,\n",
       " 2.887994864206271,\n",
       " 2.8889661291343813,\n",
       " 2.890039345474443,\n",
       " 2.89187602780109,\n",
       " 2.896528924863624,\n",
       " 2.898103263404763,\n",
       " 2.899939718439716,\n",
       " 2.901673770220729,\n",
       " 2.9079089977147756,\n",
       " 2.9080022279678244,\n",
       " 2.9119147507117735,\n",
       " 2.919044254484656,\n",
       " 2.928777017360307,\n",
       " 2.93112665377366,\n",
       " 2.9323234228616477,\n",
       " 2.932422751951167,\n",
       " 2.9334459267751254,\n",
       " 2.940801635748102,\n",
       " 2.945890872545564,\n",
       " 2.946619623490806,\n",
       " 2.9546210713827112,\n",
       " 2.962683196787882,\n",
       " 2.963993910041681,\n",
       " 2.9640560924402006,\n",
       " 2.965673326762424,\n",
       " 2.968720022027334,\n",
       " 2.970208827051312,\n",
       " 2.9712826399820678,\n",
       " 2.972318451527232,\n",
       " 2.9821565348586385,\n",
       " 2.9841148664799415,\n",
       " 2.984143611244002,\n",
       " 2.985632740832764,\n",
       " 2.9863858340545573,\n",
       " 2.986650740065956,\n",
       " 2.991401227418129,\n",
       " 2.9923037277982636,\n",
       " 3.0001493698118455,\n",
       " 3.0002324095524036,\n",
       " 3.000750272541218,\n",
       " 3.0008018357326067,\n",
       " 3.001782015297317,\n",
       " 3.0059472739312985,\n",
       " 3.0061588566311626,\n",
       " 3.0062742652062453,\n",
       " 3.0067675029661434,\n",
       " 3.009089103697049,\n",
       " 3.0099943139971748,\n",
       " 3.0140572100261056,\n",
       " 3.0197140066190933,\n",
       " 3.022083691499456,\n",
       " 3.0301462920994338,\n",
       " 3.031201921543747,\n",
       " 3.0334374214980993,\n",
       " 3.0358836808663137,\n",
       " 3.037679919119304,\n",
       " 3.0388456631515917,\n",
       " 3.0435146324914557,\n",
       " 3.0443489745233103,\n",
       " 3.0449817760740387,\n",
       " 3.0517136819788444,\n",
       " 3.0598090829476545,\n",
       " 3.061919821157858,\n",
       " 3.0621565855110875,\n",
       " 3.0635865051448605,\n",
       " 3.0669615173809905,\n",
       " 3.068326167455495,\n",
       " 3.0777180848145105,\n",
       " 3.0830178051149977,\n",
       " 3.0862641033077605,\n",
       " 3.0905880731140494,\n",
       " 3.092168210378252,\n",
       " 3.093036555189133,\n",
       " 3.0935258769039944,\n",
       " 3.0946063507581205,\n",
       " 3.103103201047431,\n",
       " 3.1067210161613685,\n",
       " 3.107849336685047,\n",
       " 3.1081179542756256,\n",
       " 3.109336947794564,\n",
       " 3.110980743876008,\n",
       " 3.1124246993423563,\n",
       " 3.1147343829621827,\n",
       " 3.1166803784773673,\n",
       " 3.1188369514480603,\n",
       " 3.119699081781607,\n",
       " 3.128724620876366,\n",
       " 3.1331180791414512,\n",
       " 3.133992710179694,\n",
       " 3.134259588261769,\n",
       " 3.135181564446682,\n",
       " 3.135369799734903,\n",
       " 3.1365486026061533,\n",
       " 3.136939284804763,\n",
       " 3.137083521761282,\n",
       " 3.138754385877133,\n",
       " 3.1435394812466635,\n",
       " 3.1445519716016257,\n",
       " 3.145100164057671,\n",
       " 3.1456236947714205,\n",
       " 3.1482345631776982,\n",
       " 3.154654636664536,\n",
       " 3.1562856421776564,\n",
       " 3.15721959185494,\n",
       " 3.1595857563816194,\n",
       " 3.163330533810771,\n",
       " 3.1639126382619644,\n",
       " 3.1641486991127588,\n",
       " 3.165391477790257,\n",
       " 3.1676887764522044,\n",
       " 3.171516005566436,\n",
       " 3.173429612572802,\n",
       " 3.173561495138818,\n",
       " 3.175146858511653,\n",
       " 3.1787860172604234,\n",
       " 3.1845085430221918,\n",
       " 3.1883039523776366,\n",
       " 3.1889930797192942,\n",
       " 3.192937342635503,\n",
       " 3.193676179997254,\n",
       " 3.195112877033782,\n",
       " 3.1975390274572515,\n",
       " 3.19805261501259,\n",
       " 3.1999506974843657,\n",
       " 3.2006246853803413,\n",
       " 3.2019308048702197,\n",
       " 3.2063152511244146,\n",
       " 3.207834038866029,\n",
       " 3.2085104458939835,\n",
       " 3.209017408867679,\n",
       " 3.2141950907532078,\n",
       " 3.2216330417715326,\n",
       " 3.2319211448036427,\n",
       " 3.23313908604866,\n",
       " 3.236807594166961,\n",
       " 3.240609104257011,\n",
       " 3.24152614457095,\n",
       " 3.2437683858690067,\n",
       " 3.245958391269752,\n",
       " 3.2542788376406824,\n",
       " 3.2549966018222,\n",
       " 3.2591676558472655,\n",
       " 3.26324058899794,\n",
       " 3.2670162843481725,\n",
       " 3.268197676053461,\n",
       " 3.2698004054562717,\n",
       " 3.2704334026616757,\n",
       " 3.2709477142753522,\n",
       " 3.282398631811557,\n",
       " 3.2843114084794793,\n",
       " 3.2871723496430167,\n",
       " 3.290223661707963,\n",
       " 3.2925354938385367,\n",
       " 3.2927220068416188,\n",
       " 3.2943161573894253,\n",
       " 3.3026417637395564,\n",
       " 3.303103901123915,\n",
       " 3.303463796848036,\n",
       " 3.3059063438657743,\n",
       " 3.3068617099793176,\n",
       " 3.3080081695100625,\n",
       " 3.308429956330494,\n",
       " 3.3134260026320406,\n",
       " 3.319525418034817,\n",
       " 3.319629321435728,\n",
       " 3.3197605286157517,\n",
       " 3.3232457276865763,\n",
       " 3.329268397758353,\n",
       " 3.3310568572137935,\n",
       " 3.3313832213776307,\n",
       " 3.335767137380258,\n",
       " 3.3367084731690166,\n",
       " 3.337563347769764,\n",
       " 3.3375940986544492,\n",
       " 3.338513122671899,\n",
       " 3.3404227107841433,\n",
       " 3.3406095145345014,\n",
       " 3.3437847764686226,\n",
       " 3.3453313213322824,\n",
       " 3.3479572847331482,\n",
       " 3.348726152748554,\n",
       " 3.348771364904633,\n",
       " 3.351737870168251,\n",
       " 3.3631284788778317,\n",
       " 3.364962471012978,\n",
       " 3.3725797975852925,\n",
       " 3.373056166897159,\n",
       " 3.38193964825114,\n",
       " 3.3850892178808225,\n",
       " 3.385787531882033,\n",
       " 3.390250031496904,\n",
       " 3.3977743054431344,\n",
       " 3.399461970412484,\n",
       " 3.410782718244455,\n",
       " 3.412705201183676,\n",
       " 3.416934538770275,\n",
       " 3.4251605600893926,\n",
       " 3.4280548665009936,\n",
       " 3.428776501566693,\n",
       " 3.4317331708574033,\n",
       " 3.4338064199665506,\n",
       " 3.445674966231715,\n",
       " 3.4498378120269044,\n",
       " 3.45015826109371,\n",
       " 3.453009737798661,\n",
       " 3.4532446946284474,\n",
       " 3.4555448337645385,\n",
       " 3.4589814491186326,\n",
       " 3.459374295540083,\n",
       " 3.465194883595853,\n",
       " 3.466665912216736,\n",
       " 3.4764210591117934,\n",
       " 3.478317644309966,\n",
       " 3.4795666030569894,\n",
       " 3.4889733377828893,\n",
       " 3.4921543269063586,\n",
       " 3.492473012332196,\n",
       " 3.4929442488792093,\n",
       " 3.4948016198047527,\n",
       " 3.4952855696638334,\n",
       " 3.495458954388163,\n",
       " 3.498316796467881,\n",
       " 3.5031742186522554,\n",
       " 3.5086187210727218,\n",
       " 3.511289671394076,\n",
       " 3.5113054693972408,\n",
       " 3.5146181444566573,\n",
       " 3.519074488114225,\n",
       " 3.522157026017787,\n",
       " 3.5251365815812443,\n",
       " 3.5277104543997355,\n",
       " 3.531153294365529,\n",
       " 3.532146326012894,\n",
       " 3.5353508020565885,\n",
       " 3.5400331781783994,\n",
       " 3.5415663227992438,\n",
       " 3.543783727096654,\n",
       " 3.5450467517864532,\n",
       " 3.551095697142702,\n",
       " 3.5527824333120566,\n",
       " 3.5558915392598327,\n",
       " 3.5590188507134934,\n",
       " 3.5595576445851833,\n",
       " 3.5613621136352704,\n",
       " 3.563359513358968,\n",
       " 3.564593271172225,\n",
       " 3.5647053232107586,\n",
       " 3.5648222004353602,\n",
       " 3.565070846060477,\n",
       " 3.565474489423794,\n",
       " 3.5675551796068445,\n",
       " 3.575139933681262]"
      ]
     },
     "execution_count": 162,
     "metadata": {},
     "output_type": "execute_result"
    }
   ],
   "source": [
    "# найдем 75-й квартиль\n",
    "sorted_sample[:int(len(sample)/4 * 3 + 1)]"
   ]
  },
  {
   "cell_type": "code",
   "execution_count": 164,
   "metadata": {},
   "outputs": [
    {
     "data": {
      "text/plain": [
       "[0.09287749424256697,\n",
       " 0.11066467564923199,\n",
       " 0.2753799121593965,\n",
       " 0.338921670882518,\n",
       " 0.4693915235538735,\n",
       " 0.5646475546955965,\n",
       " 0.6275567180974613,\n",
       " 0.6323325806441731,\n",
       " 0.6375938150358462,\n",
       " 0.6535777555294868,\n",
       " 0.686728171040766,\n",
       " 0.6920860462065792,\n",
       " 0.7105759456592029,\n",
       " 0.7164825755194442,\n",
       " 0.7604758707936154,\n",
       " 0.7803410042003569,\n",
       " 0.7925663329806749,\n",
       " 0.795656178250443,\n",
       " 0.8357248074676122,\n",
       " 0.8686012402342609,\n",
       " 0.8793206041839348,\n",
       " 0.8898849715691308,\n",
       " 0.9371404463452979,\n",
       " 0.9567219365091604,\n",
       " 0.9705954962773866,\n",
       " 0.9970613413069116,\n",
       " 1.010255949924647,\n",
       " 1.0130763589015512,\n",
       " 1.0582315919275291,\n",
       " 1.090268661717479,\n",
       " 1.114889773359133,\n",
       " 1.1264692864154298,\n",
       " 1.1269630297967101,\n",
       " 1.1385509496326933,\n",
       " 1.1595807116009218,\n",
       " 1.1647838642834023,\n",
       " 1.1711035152620684,\n",
       " 1.1742605901019914,\n",
       " 1.182014843634568,\n",
       " 1.1847079038168848,\n",
       " 1.1917746907295899,\n",
       " 1.1948166706083523,\n",
       " 1.2035158174036793,\n",
       " 1.207963749823337,\n",
       " 1.2083978936876474,\n",
       " 1.2217329940446973,\n",
       " 1.235528514321589,\n",
       " 1.2406494386030449,\n",
       " 1.2543727029951968,\n",
       " 1.2572022608988715,\n",
       " 1.2746756625442877,\n",
       " 1.2850120588315463,\n",
       " 1.2977321972624232,\n",
       " 1.3082004384558372,\n",
       " 1.3082583112270785,\n",
       " 1.3110064312007341,\n",
       " 1.3150299097275084,\n",
       " 1.3247460645275828,\n",
       " 1.3301519993059092,\n",
       " 1.3307717617126367,\n",
       " 1.3448596962333133,\n",
       " 1.3514941511044876,\n",
       " 1.358517246760199,\n",
       " 1.3692030094108159,\n",
       " 1.372589805313163,\n",
       " 1.3733810704355558,\n",
       " 1.3917968113895878,\n",
       " 1.3971037483622946,\n",
       " 1.4015943201428331,\n",
       " 1.416277305701598,\n",
       " 1.4254025655673468,\n",
       " 1.43461574683098,\n",
       " 1.4428148461445685,\n",
       " 1.4546009573680987,\n",
       " 1.4565375051852874,\n",
       " 1.4570296948961972,\n",
       " 1.4636086772569668,\n",
       " 1.4671070028895166,\n",
       " 1.5015505613207403,\n",
       " 1.5048557288947912,\n",
       " 1.5148303195245505,\n",
       " 1.5219087396665563,\n",
       " 1.5282120135380446,\n",
       " 1.5300497848462908,\n",
       " 1.5321461040896298,\n",
       " 1.532960106434274,\n",
       " 1.5341960544398294,\n",
       " 1.5426519960563425,\n",
       " 1.5508834065985515,\n",
       " 1.5560732012366774,\n",
       " 1.5782518303076458,\n",
       " 1.5825438093264557,\n",
       " 1.5852613528932087,\n",
       " 1.5874827637244944,\n",
       " 1.5905101690513759,\n",
       " 1.5925859981471546,\n",
       " 1.5970131624226558,\n",
       " 1.6012389788768653,\n",
       " 1.601259301964562,\n",
       " 1.6049848649323974,\n",
       " 1.6182233180455976,\n",
       " 1.6285476407876782,\n",
       " 1.6308196131502912,\n",
       " 1.634501656943082,\n",
       " 1.6417145804790036,\n",
       " 1.6425341650074983,\n",
       " 1.6446640457705448,\n",
       " 1.644705739537905,\n",
       " 1.6469503184653869,\n",
       " 1.6485120476137094,\n",
       " 1.6526271503366352,\n",
       " 1.6616140985748968,\n",
       " 1.6635991351292287,\n",
       " 1.6692091087718657,\n",
       " 1.6728889095750858,\n",
       " 1.676107867395594,\n",
       " 1.6877469792072697,\n",
       " 1.7092643260160116,\n",
       " 1.7276096135879786,\n",
       " 1.7392781016416188,\n",
       " 1.7536876802047532,\n",
       " 1.7549668422747344,\n",
       " 1.7611112541838145,\n",
       " 1.7612047956956725,\n",
       " 1.7613790333876695,\n",
       " 1.7641556688557234,\n",
       " 1.7823874653066274,\n",
       " 1.7994055935574087,\n",
       " 1.8077625956801044,\n",
       " 1.818443005880636,\n",
       " 1.8410839566981279,\n",
       " 1.8505908012780383,\n",
       " 1.852684708836851,\n",
       " 1.867471761158156,\n",
       " 1.8676366196192815,\n",
       " 1.8690651777100489,\n",
       " 1.8705980901778982,\n",
       " 1.8732269474491665,\n",
       " 1.8784412162550614,\n",
       " 1.8792815131375429,\n",
       " 1.8812935671602333,\n",
       " 1.8816434346471715,\n",
       " 1.8847572930749437,\n",
       " 1.8877411339008836,\n",
       " 1.8887533785795645,\n",
       " 1.88897326100156,\n",
       " 1.8961388794696807,\n",
       " 1.9038342932445034,\n",
       " 1.9074168539193803,\n",
       " 1.9124634219840393,\n",
       " 1.917972753990499,\n",
       " 1.9188824690230188,\n",
       " 1.9215169795496478,\n",
       " 1.924715223724325,\n",
       " 1.9292711745651552,\n",
       " 1.9306340672756646,\n",
       " 1.9377410354942972,\n",
       " 1.9466690174164787,\n",
       " 1.9507034074319622,\n",
       " 1.951455236685618,\n",
       " 1.9563184930236546,\n",
       " 1.9587966250454105,\n",
       " 1.9648209886028136,\n",
       " 1.970027238953305,\n",
       " 1.9758506208647917,\n",
       " 1.9765648336094488,\n",
       " 1.9814498700236605,\n",
       " 1.991219609820329,\n",
       " 1.9915106581423796,\n",
       " 1.9962940977289583,\n",
       " 1.9989208740520037,\n",
       " 1.9998235305824348,\n",
       " 2.0014471205359237,\n",
       " 2.001830199818606,\n",
       " 2.0097094533787754,\n",
       " 2.0195783820676265,\n",
       " 2.021603681024862,\n",
       " 2.0235779158701312,\n",
       " 2.027639442779921,\n",
       " 2.0291972631383492,\n",
       " 2.0296699134267184,\n",
       " 2.0297900681177343,\n",
       " 2.032465561550697,\n",
       " 2.0368703929951963,\n",
       " 2.0381631458102736,\n",
       " 2.038628165297585,\n",
       " 2.0413160592399864,\n",
       " 2.0441466562401374,\n",
       " 2.0463258407370732,\n",
       " 2.046601606955004,\n",
       " 2.0534735374738684,\n",
       " 2.054033513356073,\n",
       " 2.0751491328531673,\n",
       " 2.078992097828819,\n",
       " 2.086755568954524,\n",
       " 2.0909194297226885,\n",
       " 2.095741106108317,\n",
       " 2.096721757129907,\n",
       " 2.1001561437144978,\n",
       " 2.1002269037438577,\n",
       " 2.1018435856909794,\n",
       " 2.10373125223493,\n",
       " 2.1057500760629564,\n",
       " 2.112167075762749,\n",
       " 2.1144804824833923,\n",
       " 2.1166397631351943,\n",
       " 2.1167816194793834,\n",
       " 2.1243085649330626,\n",
       " 2.12962720835716,\n",
       " 2.1313845149340516,\n",
       " 2.1570612354321064,\n",
       " 2.158930718215544,\n",
       " 2.160811505899346,\n",
       " 2.1625204908743747,\n",
       " 2.166297474007831,\n",
       " 2.1685619298005934,\n",
       " 2.1689780024183953,\n",
       " 2.17193631512222,\n",
       " 2.1748916487555823,\n",
       " 2.175243319001808,\n",
       " 2.175823131471705,\n",
       " 2.184200689800595,\n",
       " 2.1863116335747153,\n",
       " 2.1901198759955607,\n",
       " 2.1932309391175115,\n",
       " 2.1969874117110186,\n",
       " 2.1972112826163057,\n",
       " 2.202234960944005,\n",
       " 2.2088276225110994,\n",
       " 2.210320013096318,\n",
       " 2.2128298292949924,\n",
       " 2.2154600742592097,\n",
       " 2.2178939851055475,\n",
       " 2.220790091866132,\n",
       " 2.2304376148303073,\n",
       " 2.2335167449516398,\n",
       " 2.2366442316308763,\n",
       " 2.2405105655905193,\n",
       " 2.2476045571375685,\n",
       " 2.2476694366297814,\n",
       " 2.2497868382354547,\n",
       " 2.251809701410045,\n",
       " 2.253374854921465,\n",
       " 2.2574720188922934,\n",
       " 2.2656793432779145,\n",
       " 2.266563290776859,\n",
       " 2.273061287650618,\n",
       " 2.27387840101691,\n",
       " 2.2750743143519596,\n",
       " 2.2862123463556525,\n",
       " 2.2883275248998753]"
      ]
     },
     "execution_count": 164,
     "metadata": {},
     "output_type": "execute_result"
    }
   ],
   "source": [
    "# найдем 25-й квартиль\n",
    "sorted_sample[:int(len(sample)/4+1)]"
   ]
  },
  {
   "cell_type": "code",
   "execution_count": 186,
   "metadata": {
    "scrolled": false
   },
   "outputs": [],
   "source": [
    "# найдем разность 75-й квартиль минус 25-й квартиль (что и является интерквартильным размахом)\n",
    "sorted(list(set(sorted_sample[:int(len(sample)/4 * 3 + 1)]) - set(sorted_sample[:int(len(sample)/4+1)])));"
   ]
  },
  {
   "cell_type": "code",
   "execution_count": 177,
   "metadata": {},
   "outputs": [
    {
     "data": {
      "text/plain": [
       "1455.207243920815"
      ]
     },
     "execution_count": 177,
     "metadata": {},
     "output_type": "execute_result"
    }
   ],
   "source": [
    "# просуммируем значения списка\n",
    "sum(sorted(list(set(sorted_sample[:int(len(sample)/4 * 3 + 1)]) - set(sorted_sample[:int(len(sample)/4+1)]))))"
   ]
  },
  {
   "cell_type": "code",
   "execution_count": null,
   "metadata": {},
   "outputs": [],
   "source": [
    "# теперь найдем размах матожидание минус выборочная дисперсия / матожидание минус выборочная дисперсия"
   ]
  },
  {
   "cell_type": "markdown",
   "metadata": {},
   "source": [
    "#### Выборочная дисперсия\n",
    "\n",
    "$$s^2 = \\frac{1}{n-1} \\sum_i (X_i - \\bar{X})^2 $$"
   ]
  },
  {
   "cell_type": "code",
   "execution_count": 183,
   "metadata": {},
   "outputs": [
    {
     "data": {
      "text/plain": [
       "0.9686611948057182"
      ]
     },
     "execution_count": 183,
     "metadata": {},
     "output_type": "execute_result"
    }
   ],
   "source": [
    "# считаем выборочную дисперсию S2\n",
    "disp = [(s-3)**2 for s in sample]\n",
    "S2 = sum(disp) / (len(sample) - 1)\n",
    "S2"
   ]
  },
  {
   "cell_type": "code",
   "execution_count": 184,
   "metadata": {
    "scrolled": true
   },
   "outputs": [
    {
     "name": "stdout",
     "output_type": "stream",
     "text": [
      "2.031338805194282 3.968661194805718\n"
     ]
    }
   ],
   "source": [
    "# находим граница интервала\n",
    "int1 = 3 - S2\n",
    "int2 = 3 + S2\n",
    "print(int1, int2)"
   ]
  },
  {
   "cell_type": "code",
   "execution_count": 188,
   "metadata": {},
   "outputs": [
    {
     "data": {
      "text/plain": [
       "1993.0836015576654"
      ]
     },
     "execution_count": 188,
     "metadata": {},
     "output_type": "execute_result"
    }
   ],
   "source": [
    "# считаем сумму значений выборки в пределах интервала\n",
    "list1 = []\n",
    "for s in sorted(sample):\n",
    "    if s >= int1 and  s <= int2:\n",
    "        list1.append(s)\n",
    "sum(list1)"
   ]
  },
  {
   "cell_type": "code",
   "execution_count": null,
   "metadata": {},
   "outputs": [],
   "source": [
    "# используем калькулятор https://gallery.shinyapps.io/dist_calc/\n",
    "# интервал от 2.03 до 3.96 содержит примерно 70% значений. Сумма значений равна 1993\n",
    "# интерквантильный размах, как и ожидалось в теории, содержит 50% значений. Сумма значений равна 1455\n",
    "\n",
    "#Вывод ниже:"
   ]
  },
  {
   "cell_type": "markdown",
   "metadata": {},
   "source": [
    "$(\\bar{X}-s^2, \\bar{X}+s^2)$ для $\\mathcal{N}(a, \\sigma^2)$ шире, чем интерквантильный размах ($X_{0.75} - X_{0.25}$)."
   ]
  },
  {
   "cell_type": "code",
   "execution_count": null,
   "metadata": {},
   "outputs": [],
   "source": []
  },
  {
   "cell_type": "markdown",
   "metadata": {},
   "source": [
    "## Основные статистики и ЦПТ"
   ]
  },
  {
   "cell_type": "markdown",
   "metadata": {},
   "source": [
    "- Что такое статистика? Посчитайте любую для бета-распределения (1,3)"
   ]
  },
  {
   "cell_type": "code",
   "execution_count": 194,
   "metadata": {},
   "outputs": [
    {
     "data": {
      "text/plain": [
       "0.20018110553356752"
      ]
     },
     "execution_count": 194,
     "metadata": {},
     "output_type": "execute_result"
    }
   ],
   "source": [
    "beta_rv = stats.beta(1,3)\n",
    "#your code here\n",
    "# посчитаем моду\n",
    "sample_beta = beta_rv.rvs(1000)\n",
    "sorted(sample_beta)[len(sample_beta)//2]"
   ]
  },
  {
   "cell_type": "markdown",
   "metadata": {},
   "source": [
    "- Какие статистики являются оценками матожидания, медианы и дисперсии? Посчитайте их для гамма-распределения с параметрами (2, 2)"
   ]
  },
  {
   "cell_type": "code",
   "execution_count": 195,
   "metadata": {},
   "outputs": [],
   "source": [
    "gamma_rv = stats.gamma(2,2)\n",
    "sample_gamma = gamma_rv.rvs(500)\n",
    "\n",
    "#your code here\n",
    "mean = sum(sample_gamma)/len(sample_gamma)\n",
    "var = 1 / (len(sample_gamma) - 1) * np.sum([(sample_gamma[i] - mean)**2 for i in range(len(sample_gamma))])\n",
    "med = sorted(sample_gamma)[len(sample_gamma)//2]\n"
   ]
  },
  {
   "cell_type": "code",
   "execution_count": 196,
   "metadata": {},
   "outputs": [
    {
     "name": "stdout",
     "output_type": "stream",
     "text": [
      "mean: 3.918167898763364\n",
      "var : 1.6307497593944427\n",
      "median : 3.64412220680206\n"
     ]
    }
   ],
   "source": [
    "print(f\"mean: {mean}\")\n",
    "print(f\"var : {var}\")\n",
    "print(f\"median : {med}\")\n"
   ]
  },
  {
   "cell_type": "markdown",
   "metadata": {},
   "source": [
    "- Какое распределение имеет $\\bar{X}$ по ЦПТ? Если исходное распределение $\\mathcal{N}(5, 2)$. Сгенерировать выборки размером 50 из этого распределения и проверить. (построить распределение средних)"
   ]
  },
  {
   "cell_type": "code",
   "execution_count": 34,
   "metadata": {},
   "outputs": [],
   "source": [
    "#your code here\n",
    "norm_rv = stats.norm(5,2)\n",
    "mean_norm_samples = [] # пустой словарь, в которы поместим полученные средние\n",
    "for i in range(10000):\n",
    "    sample = norm_rv.rvs(50)\n",
    "    #your code here\n",
    "    mean_norm_sample = sum(sample)/len(sample)\n",
    "    mean_norm_samples.append(mean_norm_sample)"
   ]
  },
  {
   "cell_type": "code",
   "execution_count": 35,
   "metadata": {
    "scrolled": false
   },
   "outputs": [],
   "source": [
    "mean_norm_samples;"
   ]
  },
  {
   "cell_type": "code",
   "execution_count": 36,
   "metadata": {},
   "outputs": [
    {
     "data": {
      "text/plain": [
       "10000"
      ]
     },
     "execution_count": 36,
     "metadata": {},
     "output_type": "execute_result"
    }
   ],
   "source": [
    "len(mean_norm_samples) # проверим, что число значений равно числу случайных 50-ти элементных выборок"
   ]
  },
  {
   "cell_type": "code",
   "execution_count": 37,
   "metadata": {},
   "outputs": [
    {
     "data": {
      "text/plain": [
       "(array([  1.,  11.,  15.,  18.,  29.,  81., 143., 184., 296., 440., 538.,\n",
       "        707., 841., 904., 927., 905., 943., 808., 683., 504., 369., 263.,\n",
       "        164.,  97.,  62.,  42.,  13.,   7.,   3.,   2.]),\n",
       " array([3.98017591, 4.04915423, 4.11813255, 4.18711087, 4.25608919,\n",
       "        4.32506751, 4.39404583, 4.46302416, 4.53200248, 4.6009808 ,\n",
       "        4.66995912, 4.73893744, 4.80791576, 4.87689408, 4.9458724 ,\n",
       "        5.01485072, 5.08382905, 5.15280737, 5.22178569, 5.29076401,\n",
       "        5.35974233, 5.42872065, 5.49769897, 5.56667729, 5.63565562,\n",
       "        5.70463394, 5.77361226, 5.84259058, 5.9115689 , 5.98054722,\n",
       "        6.04952554]),\n",
       " <a list of 30 Patch objects>)"
      ]
     },
     "execution_count": 37,
     "metadata": {},
     "output_type": "execute_result"
    },
    {
     "data": {
      "image/png": "[encoded data removed]",
      "text/plain": [
       "<Figure size 432x288 with 1 Axes>"
      ]
     },
     "metadata": {
      "needs_background": "light"
     },
     "output_type": "display_data"
    }
   ],
   "source": [
    "#посмотрим на распределение средних. Напоминает нормальное распределение\n",
    "plt.hist(mean_norm_samples, bins=30)\n"
   ]
  },
  {
   "cell_type": "code",
   "execution_count": 43,
   "metadata": {
    "scrolled": true
   },
   "outputs": [
    {
     "data": {
      "text/plain": [
       "(array([1.000e+00, 3.000e+00, 7.000e+00, 1.100e+01, 4.200e+01, 5.500e+01,\n",
       "        1.120e+02, 2.050e+02, 2.830e+02, 4.500e+02, 6.480e+02, 8.060e+02,\n",
       "        9.460e+02, 1.054e+03, 1.043e+03, 9.940e+02, 9.490e+02, 7.540e+02,\n",
       "        5.940e+02, 3.970e+02, 2.750e+02, 1.690e+02, 9.100e+01, 6.900e+01,\n",
       "        2.000e+01, 1.200e+01, 4.000e+00, 1.000e+00, 2.000e+00, 3.000e+00]),\n",
       " array([4.65237143, 4.67646584, 4.70056024, 4.72465465, 4.74874906,\n",
       "        4.77284346, 4.79693787, 4.82103228, 4.84512668, 4.86922109,\n",
       "        4.8933155 , 4.9174099 , 4.94150431, 4.96559872, 4.98969312,\n",
       "        5.01378753, 5.03788194, 5.06197634, 5.08607075, 5.11016516,\n",
       "        5.13425956, 5.15835397, 5.18244838, 5.20654278, 5.23063719,\n",
       "        5.2547316 , 5.278826  , 5.30292041, 5.32701482, 5.35110922,\n",
       "        5.37520363]),\n",
       " <a list of 30 Patch objects>)"
      ]
     },
     "execution_count": 43,
     "metadata": {},
     "output_type": "execute_result"
    },
    {
     "data": {
      "image/png": "[encoded data removed]",
      "text/plain": [
       "<Figure size 432x288 with 1 Axes>"
      ]
     },
     "metadata": {
      "needs_background": "light"
     },
     "output_type": "display_data"
    }
   ],
   "source": [
    "# чем бОльшего размера случайным образом сформированные выборки мы будем брать, тем распределение средних будет \n",
    "# создавать более узкий (относительно значения матожидания среднего) колоколообразный график\n",
    "\n",
    "norm_rv = stats.norm(5,2)\n",
    "mean_norm_samples = [] # пустой словарь, в который поместим полученные средние\n",
    "for i in range(10000):\n",
    "    sample = norm_rv.rvs(500)\n",
    "    mean_norm_sample = sum(sample)/len(sample)\n",
    "    mean_norm_samples.append(mean_norm_sample)\n",
    "plt.hist(mean_norm_samples, bins=30)"
   ]
  },
  {
   "cell_type": "code",
   "execution_count": 45,
   "metadata": {
    "scrolled": true
   },
   "outputs": [
    {
     "data": {
      "text/plain": [
       "(array([   4.,    8.,    8.,   25.,   39.,   70.,  130.,  228.,  312.,\n",
       "         447.,  618.,  752.,  901.,  928.,  996., 1007.,  901.,  742.,\n",
       "         585.,  449.,  338.,  218.,  125.,   74.,   55.,   18.,    9.,\n",
       "           5.,    4.,    4.]),\n",
       " array([3.50739454, 3.54141188, 3.57542922, 3.60944656, 3.64346391,\n",
       "        3.67748125, 3.71149859, 3.74551593, 3.77953327, 3.81355061,\n",
       "        3.84756796, 3.8815853 , 3.91560264, 3.94961998, 3.98363732,\n",
       "        4.01765467, 4.05167201, 4.08568935, 4.11970669, 4.15372403,\n",
       "        4.18774137, 4.22175872, 4.25577606, 4.2897934 , 4.32381074,\n",
       "        4.35782808, 4.39184542, 4.42586277, 4.45988011, 4.49389745,\n",
       "        4.52791479]),\n",
       " <a list of 30 Patch objects>)"
      ]
     },
     "execution_count": 45,
     "metadata": {},
     "output_type": "execute_result"
    },
    {
     "data": {
      "image/png": "[encoded data removed]",
      "text/plain": [
       "<Figure size 432x288 with 1 Axes>"
      ]
     },
     "metadata": {
      "needs_background": "light"
     },
     "output_type": "display_data"
    }
   ],
   "source": [
    "# нормальное распределение с параметрами (5,2) означает, что среднее значение (наиболее вероятное) равно 5, а стандартное отклонение равно 2\n",
    "# какими бы ни были параметры генеральной совокупности, согласно ЦПТ средние значения выборок из нее будут распределены примерно по нормальному закону \n",
    "\n",
    "norm_rv = stats.norm(4,3)\n",
    "mean_norm_samples = [] # пустой словарь, в который поместим полученные средние\n",
    "for i in range(10000):\n",
    "    sample = norm_rv.rvs(500)\n",
    "    mean_norm_sample = sum(sample)/len(sample)\n",
    "    mean_norm_samples.append(mean_norm_sample)\n",
    "plt.hist(mean_norm_samples, bins=30)"
   ]
  },
  {
   "cell_type": "code",
   "execution_count": null,
   "metadata": {},
   "outputs": [],
   "source": []
  },
  {
   "cell_type": "markdown",
   "metadata": {},
   "source": [
    "- Сгенерируйте выборки так, чтобы ЦПТ не выполнялось (распределение средних не было похоже нормальное)"
   ]
  },
  {
   "cell_type": "code",
   "execution_count": 50,
   "metadata": {},
   "outputs": [
    {
     "data": {
      "text/plain": [
       "(array([2., 2., 2., 8., 9., 6., 3., 4., 3., 2., 2., 0., 3., 2., 2.]),\n",
       " array([3.44553241, 3.54207116, 3.63860992, 3.73514868, 3.83168744,\n",
       "        3.92822619, 4.02476495, 4.12130371, 4.21784247, 4.31438122,\n",
       "        4.41091998, 4.50745874, 4.60399749, 4.70053625, 4.79707501,\n",
       "        4.89361377]),\n",
       " <a list of 15 Patch objects>)"
      ]
     },
     "execution_count": 50,
     "metadata": {},
     "output_type": "execute_result"
    },
    {
     "data": {
      "image/png": "[encoded data removed]",
      "text/plain": [
       "<Figure size 432x288 with 1 Axes>"
      ]
     },
     "metadata": {
      "needs_background": "light"
     },
     "output_type": "display_data"
    }
   ],
   "source": [
    "# для экспоненциального распределения сделаем всего 50 выборок малого размера (10 элементов)\n",
    "norm_rv = stats.expon(3)\n",
    "mean_norm_samples = [] # пустой словарь, в который поместим полученные средние\n",
    "for i in range(50):\n",
    "    sample = norm_rv.rvs(10)\n",
    "    mean_norm_sample = sum(sample)/len(sample)\n",
    "    mean_norm_samples.append(mean_norm_sample)\n",
    "plt.hist(mean_norm_samples, bins=15)\n",
    "# результат не похож на нормальное рапределение"
   ]
  },
  {
   "cell_type": "markdown",
   "metadata": {},
   "source": [
    "- Сделайте z-преобразование для данного распределения"
   ]
  },
  {
   "cell_type": "code",
   "execution_count": 52,
   "metadata": {},
   "outputs": [
    {
     "data": {
      "text/plain": [
       "[-0.6240738803691079,\n",
       " -0.7466561689383119,\n",
       " 0.4008345229639423,\n",
       " -0.7058170862833295,\n",
       " 2.135095197732059,\n",
       " -0.6851329083678626,\n",
       " -0.430063604287842,\n",
       " -0.6388560334452905,\n",
       " -0.7394329048836833,\n",
       " 1.8570597693736972,\n",
       " 1.7117789924792741,\n",
       " -0.5606465853120859,\n",
       " 2.2138181048804193,\n",
       " -0.7118690873077284,\n",
       " -0.38085851307769886,\n",
       " 2.009236092959351,\n",
       " -0.3561220019636092,\n",
       " -0.29512959582869847,\n",
       " -0.16068096423416514,\n",
       " 0.4318326645239014,\n",
       " -0.5065648922341582,\n",
       " 0.1816831714148168,\n",
       " -0.31801559661507783,\n",
       " -0.44683918541476103,\n",
       " 0.2917596917880456,\n",
       " 0.3583679175324292,\n",
       " 0.020099477436607345,\n",
       " -0.7686817983123199,\n",
       " -0.2109985317350491,\n",
       " -0.7839234907907315,\n",
       " -0.22500468563367337,\n",
       " -0.8533638723001259,\n",
       " -0.5272234641598471,\n",
       " 0.0017054796244090856,\n",
       " -0.6987136557942516,\n",
       " -0.4391232386209474,\n",
       " 0.39022863673325836,\n",
       " 4.166099740973924,\n",
       " 1.379206641861178,\n",
       " -0.4512425512404252,\n",
       " -0.41296193638545364,\n",
       " 0.10672640859133566,\n",
       " 0.2383926366285786,\n",
       " -0.7757739739090089,\n",
       " 0.46168005207938284,\n",
       " -0.46014183860768637,\n",
       " 0.6895510687989339,\n",
       " -0.3942785649495843,\n",
       " -0.045384576480831745,\n",
       " 0.2822677476658905,\n",
       " -0.2045372112231167,\n",
       " -0.10734803003112875,\n",
       " 2.483847924293309,\n",
       " -0.4874947603488704,\n",
       " 0.12378301938288354,\n",
       " -0.6927635525655924,\n",
       " 0.38861648030992557,\n",
       " -0.855414644218827,\n",
       " -0.6669929520808068,\n",
       " -0.05213816741133325,\n",
       " -0.7535150605491047,\n",
       " -0.5646931822307885,\n",
       " 0.5280677401768749,\n",
       " 0.5669647745340544,\n",
       " -0.1176953833958895,\n",
       " -0.7198345146647592,\n",
       " 1.3977407958217498,\n",
       " 0.016767967737181165,\n",
       " -0.547353056131329,\n",
       " -0.6244199725780554,\n",
       " -0.3745870899182937,\n",
       " -0.3564004126910612,\n",
       " 1.5576702656533323,\n",
       " 0.14746893219470375,\n",
       " -0.0755481937404642,\n",
       " 0.29993305466159204,\n",
       " -0.311052743769808,\n",
       " 0.8248690345270222,\n",
       " -0.6633456241773588,\n",
       " -0.4448795731834733,\n",
       " -0.1854579455516862,\n",
       " 0.14457321191074948,\n",
       " -0.7042630688768462,\n",
       " -0.3646089406739897,\n",
       " -0.8791362037520543,\n",
       " -0.8091885720763972,\n",
       " 3.6839832478634595,\n",
       " -0.2686853131773045,\n",
       " -0.8771756188381294,\n",
       " -0.19707125420897428,\n",
       " 0.19228665353440363,\n",
       " 0.5470213469703316,\n",
       " -0.7841573007057905,\n",
       " 1.24420496978642,\n",
       " -0.8649599874509641,\n",
       " -0.2098879482637567,\n",
       " -0.26843204747067995,\n",
       " -0.810104378564791,\n",
       " 0.3285760190234684,\n",
       " -0.6564945180655771,\n",
       " -0.00416533591297003,\n",
       " -0.10825642497332295,\n",
       " 0.8593104752010957,\n",
       " -0.3435054124017757,\n",
       " 1.8932988284890544,\n",
       " 0.9950479354257601,\n",
       " 2.595380426461898,\n",
       " -0.6715247170375559,\n",
       " 2.963886185301305,\n",
       " -0.5272792420206921,\n",
       " -0.5431560852279953,\n",
       " 1.7844413171108937,\n",
       " -0.658075717558018,\n",
       " -0.7043896798148788,\n",
       " -0.014347059617667754,\n",
       " -0.7274913669055834,\n",
       " -0.6526627611605186,\n",
       " -0.10089684728963434,\n",
       " -0.10032029755434782,\n",
       " 0.4608673534409273,\n",
       " -0.655673841063988,\n",
       " -0.7953535199463171,\n",
       " -0.6901334981413864,\n",
       " -0.8720243188443587,\n",
       " -0.7536305771885301,\n",
       " -0.07015683818650667,\n",
       " -0.6549549971981999,\n",
       " -0.682990399172621,\n",
       " -0.6968678369082691,\n",
       " -0.8713847768743469,\n",
       " -0.606664371007778,\n",
       " 0.315470490234975,\n",
       " -0.005149709628091646,\n",
       " 3.950777794325407,\n",
       " 1.3419010066666939,\n",
       " -0.6407171061632358,\n",
       " -0.6878270772326315,\n",
       " -0.8240980604954237,\n",
       " 1.6520397063242638,\n",
       " 0.6725948353418819,\n",
       " 0.13017972927457788,\n",
       " 0.6652641780813359,\n",
       " -0.2279501973589568,\n",
       " -0.7677237394461254,\n",
       " -0.45813806191770107,\n",
       " -0.8304557192955839,\n",
       " -0.5088915765016665,\n",
       " -0.5382825758604065,\n",
       " -0.31272933489249594,\n",
       " 1.5533954558384089,\n",
       " -0.08867041220943937,\n",
       " 0.27335175135330175,\n",
       " 0.8570920465225363,\n",
       " -0.2534482794337657,\n",
       " -0.6334387498343712,\n",
       " 0.17506406423544252,\n",
       " -0.17757474042317828,\n",
       " -0.8554315853420491,\n",
       " -0.09164731023921778,\n",
       " -0.7981569260418823,\n",
       " -0.10408029432453805,\n",
       " 0.9554841071825021,\n",
       " 0.47430215821539506,\n",
       " -0.3006603958952524,\n",
       " 0.620554572310988,\n",
       " -0.54860165137127,\n",
       " -0.03224024594624939,\n",
       " -0.8329883004463121,\n",
       " -0.6346130892925579,\n",
       " 2.5960019280380076,\n",
       " -0.30132160774959865,\n",
       " 0.494975244605199,\n",
       " 8.740042038243806e-05,\n",
       " -0.6585277743016158,\n",
       " -0.17032477285012831,\n",
       " -0.31633503594947254,\n",
       " -0.23562766791027323,\n",
       " 0.08760922838449468,\n",
       " -0.7606910601125428,\n",
       " 0.0060558018839708275,\n",
       " 1.2660668609201893,\n",
       " -0.8290574395805851,\n",
       " -0.04022432305713561,\n",
       " -0.2824576511307276,\n",
       " -0.10527771459836807,\n",
       " -0.003570005263249479,\n",
       " 1.351501293791229,\n",
       " -0.22290092134468253,\n",
       " -0.407887085819581,\n",
       " -0.7780599024059485,\n",
       " -0.7605381727867921,\n",
       " -0.5268153008922776,\n",
       " -0.650205553976069,\n",
       " -0.5255364383344704,\n",
       " 0.028403838537671148,\n",
       " 0.5176914578674602,\n",
       " -0.31512628091756545,\n",
       " -0.185882894045436,\n",
       " -0.20521074449520046,\n",
       " -0.2840113267223758,\n",
       " -0.19756208718421775,\n",
       " -0.5227246478042663,\n",
       " -0.5214859049167471,\n",
       " -0.5322463263425836,\n",
       " -0.5146962454161161,\n",
       " 1.148047713218993,\n",
       " 0.10942571871449824,\n",
       " 0.21151560174547532,\n",
       " -0.4082955076717489,\n",
       " -0.8837686580860968,\n",
       " 0.06452425570607845,\n",
       " 0.19651141584954984,\n",
       " -0.4238791714337257,\n",
       " 0.18095705772210768,\n",
       " -0.6647680929526457,\n",
       " -0.3234898577337609,\n",
       " -0.06753157086195424,\n",
       " -0.5672434276846977,\n",
       " -0.7213957934872886,\n",
       " 0.20852059031201703,\n",
       " -0.5756974464276744,\n",
       " -0.7091827007821746,\n",
       " -0.6877989130700093,\n",
       " 0.38289383413794886,\n",
       " 0.4916025330586206,\n",
       " -0.7040704360377195,\n",
       " -0.7562867044433983,\n",
       " -0.6897375078888033,\n",
       " -0.2357896259520028,\n",
       " -0.17140660161710186,\n",
       " 0.03455555022387395,\n",
       " -0.3029163025196813,\n",
       " 1.315702112747753,\n",
       " -0.5315427008581394,\n",
       " 0.5882413390977825,\n",
       " 1.2879381462548019,\n",
       " -0.09386323487823439,\n",
       " -0.15962622573106586,\n",
       " -0.4723472211991253,\n",
       " 0.27722468812093476,\n",
       " -0.02174017257786146,\n",
       " 0.25087268797955176,\n",
       " -0.7203152591796828,\n",
       " 2.0220982002151837,\n",
       " -0.24124682057215904,\n",
       " -0.8461884726374793,\n",
       " -0.7379793727167325,\n",
       " -0.3012024737316579,\n",
       " -0.6389543453385437,\n",
       " -0.601408508901659,\n",
       " 1.1884143037179737,\n",
       " -0.07347085983471324,\n",
       " 0.08801499445632156,\n",
       " -0.83089662916395,\n",
       " -0.581922414675615,\n",
       " -0.26393549327089794,\n",
       " -0.7102801608498726,\n",
       " 0.6183885180948374,\n",
       " 0.8345880543347701,\n",
       " 1.138630232262294,\n",
       " 1.1222786283449109,\n",
       " 0.22227993072348337,\n",
       " 0.4128504905443307,\n",
       " -0.5573431643350802,\n",
       " 2.7036836259535755,\n",
       " -0.8684244828738917,\n",
       " -0.7895827913269842,\n",
       " -0.5581165011411261,\n",
       " 0.6247798966160522,\n",
       " 0.3082136439261843,\n",
       " 0.1690812388685036,\n",
       " 3.0099233981378246,\n",
       " 0.23556312573748908,\n",
       " -0.7155746925944713,\n",
       " -0.5000700608053472,\n",
       " -0.5324412481524307,\n",
       " -0.6262819697110888,\n",
       " -0.6865551708001657,\n",
       " -0.815316382732601,\n",
       " -0.23999028661043195,\n",
       " -0.5629926731713261,\n",
       " -0.38272069111652846,\n",
       " -0.36909443832296834,\n",
       " -0.3861177301994169,\n",
       " 1.3711510381983505,\n",
       " -0.7886473270756876,\n",
       " -0.8788058368437959,\n",
       " 0.27794885575419725,\n",
       " -0.6979292039151153,\n",
       " -0.0004295953826241105,\n",
       " 1.4227832274149423,\n",
       " -0.6801683566475891,\n",
       " 0.5009079760191937,\n",
       " -0.24077644723676753,\n",
       " -0.39396363318501226,\n",
       " -0.4394300399664058,\n",
       " -0.12071135680809884,\n",
       " -0.1354879651115012,\n",
       " -0.45263070150841134,\n",
       " 1.0729906781128251,\n",
       " -0.6746823245479376,\n",
       " -0.8307229838734631,\n",
       " -0.6721962639045127,\n",
       " -0.40912608256446464,\n",
       " -0.7741409326266868,\n",
       " -0.4137926305363761,\n",
       " -0.8894039561787561,\n",
       " 0.5268528533787866,\n",
       " 0.7377636461376347,\n",
       " 3.501114363971268,\n",
       " -0.4870377912666211,\n",
       " 0.3319422256173423,\n",
       " 0.08112458675770985,\n",
       " 2.5275716074851267,\n",
       " 0.21740864419374206,\n",
       " -0.18246286616371696,\n",
       " -0.8838508439019911,\n",
       " -0.21421776828573533,\n",
       " -0.2853889030228895,\n",
       " -0.8486388744517032,\n",
       " -0.5292833724266617,\n",
       " -0.2376339254721557,\n",
       " 1.0848222155819298,\n",
       " 0.04628858656918171,\n",
       " -0.3301034217126657,\n",
       " 0.42016160216890314,\n",
       " -0.4216531743419697,\n",
       " 0.2337146989768126,\n",
       " 2.060193343589075,\n",
       " 0.23619526907993468,\n",
       " -0.7729691258741948,\n",
       " -0.594890439002311,\n",
       " -0.5267193941395033,\n",
       " -0.5676564912420183,\n",
       " -0.32120798720954313,\n",
       " 0.3945588931268027,\n",
       " 2.8054481710342096,\n",
       " -0.797260253620616,\n",
       " -0.7022811022512719,\n",
       " 1.618487274694822,\n",
       " -0.5839176700913866,\n",
       " -0.3069452271251113,\n",
       " -0.8264807052897553,\n",
       " -0.7291566545392489,\n",
       " 4.1601246478201475,\n",
       " -0.0035357468282390197,\n",
       " -0.6936815474960739,\n",
       " 1.1001042243444643,\n",
       " -0.3734955209284083,\n",
       " -0.631844781235598,\n",
       " -0.3797529854985567,\n",
       " -0.48788097020637766,\n",
       " -0.25600139918063847,\n",
       " 1.2051030436324754,\n",
       " -0.03910157086824564,\n",
       " -0.31891901192930316,\n",
       " 0.7125258337001416,\n",
       " 0.8906975532765694,\n",
       " -0.5461152078080089,\n",
       " -0.5140987599427156,\n",
       " 0.13768119664631057,\n",
       " -0.5825468355724878,\n",
       " -0.49776160766250155,\n",
       " 0.7159976273627388,\n",
       " -0.6739629518203119,\n",
       " 0.35900152856741824,\n",
       " -0.21654272542799557,\n",
       " -0.5729168662789084,\n",
       " -0.5222403130924572,\n",
       " -0.4483961369203013,\n",
       " 0.8716777393094116,\n",
       " -0.5867206092020635,\n",
       " -0.73331623229625,\n",
       " -0.8799947430746066,\n",
       " -0.5462898931546162,\n",
       " -0.5858676031291546,\n",
       " -0.05089911391201812,\n",
       " -0.7501696465377928,\n",
       " 1.1548606400135222,\n",
       " 0.3398005358321746,\n",
       " -0.6423847081224011,\n",
       " -0.6705322224235993,\n",
       " -0.07859329880385844,\n",
       " -0.8086538266281411,\n",
       " -0.5501563807090739,\n",
       " 0.06429011052951548,\n",
       " -0.08930490434133956,\n",
       " -0.39780961038188434,\n",
       " -0.19470862347891343,\n",
       " -0.26389674678531916,\n",
       " 0.08541725675025892,\n",
       " -0.2776282531440141,\n",
       " 2.842241137563666,\n",
       " -0.8326828187864298,\n",
       " -0.5232255669153519,\n",
       " -0.6936498732961728,\n",
       " -0.489739517354506,\n",
       " -0.2870066973822365,\n",
       " -0.8816110283869767,\n",
       " 1.3785140948987955,\n",
       " -0.1872918639033862,\n",
       " 0.09651376841538373,\n",
       " -0.5366583289970034,\n",
       " 1.3315131507291953,\n",
       " 1.9444328288281347,\n",
       " -0.35722841108311276,\n",
       " 1.46341673005033,\n",
       " -0.8808201230938487,\n",
       " 0.3243739451906291,\n",
       " -0.28020461934940893,\n",
       " -0.1644230454504734,\n",
       " 1.3498750851455619,\n",
       " 0.699714092816537,\n",
       " 0.07875575056563978,\n",
       " -0.7974878385360763,\n",
       " 0.9595959386238037,\n",
       " 0.14253236244987433,\n",
       " 0.11717846179349506,\n",
       " -0.4390623083211334,\n",
       " -0.283612657576433,\n",
       " -0.4328512419418561,\n",
       " -0.35741672125683815,\n",
       " -0.8919486339733247,\n",
       " 0.7902344202390854,\n",
       " -0.13504225492575841,\n",
       " -0.7050528409543274,\n",
       " -0.5744448082650505,\n",
       " 0.38447372275634856,\n",
       " 1.5334981199773114,\n",
       " -0.698125801287957,\n",
       " 0.2835869523309877,\n",
       " 0.27846403116825874,\n",
       " -0.6752294329531527,\n",
       " -0.4249031683320329,\n",
       " 1.044433396881864,\n",
       " -0.12463164425678558,\n",
       " 0.6956652441264952,\n",
       " -0.47374587190855777,\n",
       " -0.11716646574400348,\n",
       " -0.8768994578171116,\n",
       " 0.461994047806496,\n",
       " -0.7716592477985509,\n",
       " -0.3811985094709983,\n",
       " -0.8228854976819838,\n",
       " -0.4155433602668811,\n",
       " -0.8649269509825708,\n",
       " 1.3743426770596494,\n",
       " 1.1746084497642078,\n",
       " 0.20096996894746474,\n",
       " -0.6141928135273181,\n",
       " -0.7558864782546516,\n",
       " 1.454510717943899,\n",
       " -0.7907575821181523,\n",
       " -0.6055876276587823,\n",
       " -0.21339577377774116,\n",
       " -0.8922453510625559,\n",
       " -0.039318317571502594,\n",
       " 0.8160853799162385,\n",
       " 2.332763054581207,\n",
       " -0.3430472580106908,\n",
       " -0.39539984503692294,\n",
       " -0.6502814620412445,\n",
       " -0.03568617286162556,\n",
       " -0.8498239583464287,\n",
       " -0.6578794423570236,\n",
       " 0.721529696097557,\n",
       " -0.571058590659104,\n",
       " 0.15041619637530954,\n",
       " 0.40943567082454135,\n",
       " -0.07866455305302099,\n",
       " -0.7506026661214036,\n",
       " 1.0356954955339264,\n",
       " 0.027814144554939652,\n",
       " -0.6943872878623344,\n",
       " -0.8566905905266716,\n",
       " -0.7042927803967135,\n",
       " -0.6525982005048169,\n",
       " 2.7294868184516963,\n",
       " -0.6786157997762776,\n",
       " 0.604794498321434,\n",
       " 1.991913257622365,\n",
       " -0.7955581018124769,\n",
       " 0.1299502912254357,\n",
       " 0.34306996464704353,\n",
       " -0.7530820081450553,\n",
       " -0.7567746522445998,\n",
       " -0.6127355363176576,\n",
       " -0.38057047997427257,\n",
       " 5.948458206475403,\n",
       " -0.793333088751032,\n",
       " -0.36546481207771625,\n",
       " -0.8518564624645929,\n",
       " -0.723598026413496,\n",
       " 0.33642979487640967,\n",
       " 2.3162941333474936,\n",
       " -0.186569764177726,\n",
       " 1.2696139388417753,\n",
       " 0.2923229200942418,\n",
       " -0.4813614588197758,\n",
       " 0.1785131548379251]"
      ]
     },
     "execution_count": 52,
     "metadata": {},
     "output_type": "execute_result"
    }
   ],
   "source": [
    "expon_rv = stats.expon(3)\n",
    "sample_expon = expon_rv.rvs(500)\n",
    "var_sample_expon = sample_expon.var()\n",
    "mean_sample_expon = sample_expon.mean()\n",
    "new_rv = [(x - mean_sample_expon)/ var_sample_expon for x in sample_expon] \n",
    "new_rv\n"
   ]
  },
  {
   "cell_type": "code",
   "execution_count": 63,
   "metadata": {},
   "outputs": [
    {
     "data": {
      "text/plain": [
       "-7.543965452327939e-17"
      ]
     },
     "execution_count": 63,
     "metadata": {},
     "output_type": "execute_result"
    }
   ],
   "source": [
    "# новый матож\n",
    "new_mean = sum(new_rv)/len(new_rv)\n",
    "new_mean"
   ]
  },
  {
   "cell_type": "code",
   "execution_count": 64,
   "metadata": {},
   "outputs": [
    {
     "data": {
      "text/plain": [
       "0.8497004643577274"
      ]
     },
     "execution_count": 64,
     "metadata": {},
     "output_type": "execute_result"
    }
   ],
   "source": [
    "# новая дисперсия\n",
    "1 / (len(new_rv) - 1) * np.sum([(new_rv[i] - new_mean)**2 for i in range(len(new_rv))])\n"
   ]
  },
  {
   "cell_type": "code",
   "execution_count": 65,
   "metadata": {},
   "outputs": [
    {
     "data": {
      "text/plain": [
       "0.848001063429012"
      ]
     },
     "execution_count": 65,
     "metadata": {},
     "output_type": "execute_result"
    }
   ],
   "source": [
    "# првоерим себя\n",
    "np.var(new_rv)"
   ]
  },
  {
   "cell_type": "markdown",
   "metadata": {},
   "source": [
    "## Доверительные интервалы и гипотезы"
   ]
  },
  {
   "cell_type": "markdown",
   "metadata": {},
   "source": [
    "В данных задачах используйте встроенную функцию, позволяющую искать квантили случайной величины **your_rv**.ppf, а также https://gallery.shinyapps.io/dist_calc/ для визуальной картины"
   ]
  },
  {
   "cell_type": "markdown",
   "metadata": {},
   "source": [
    "- Постройте 90% доверительный интервал для среднего значения $\\mathcal{\\chi^2_{10}}$."
   ]
  },
  {
   "cell_type": "code",
   "execution_count": 102,
   "metadata": {},
   "outputs": [
    {
     "data": {
      "text/plain": [
       "1.2660668609201893"
      ]
     },
     "execution_count": 102,
     "metadata": {},
     "output_type": "execute_result"
    }
   ],
   "source": [
    "# будем работать с new_rv\n",
    "# нужно найти квантиль уровня 90%\n",
    "sorted(new_rv)[int(len(new_rv_sort)*0.9)]"
   ]
  },
  {
   "cell_type": "markdown",
   "metadata": {},
   "source": [
    "- Постройте ДИ для распределения Стьюдента с df = 15 уровня доверия 90%  и 95%. Какой интервал шире?"
   ]
  },
  {
   "cell_type": "code",
   "execution_count": 106,
   "metadata": {},
   "outputs": [
    {
     "data": {
      "text/plain": [
       "1.3406056078504547"
      ]
     },
     "execution_count": 106,
     "metadata": {},
     "output_type": "execute_result"
    }
   ],
   "source": [
    "t_rv = sts.t(15)\n",
    "t_rv.ppf(0.9)\n"
   ]
  },
  {
   "cell_type": "code",
   "execution_count": null,
   "metadata": {},
   "outputs": [],
   "source": [
    "# Distribution Calculator показывает интервал 0.8"
   ]
  },
  {
   "cell_type": "code",
   "execution_count": 110,
   "metadata": {
    "scrolled": true
   },
   "outputs": [
    {
     "data": {
      "text/plain": [
       "1.7530503556925547"
      ]
     },
     "execution_count": 110,
     "metadata": {},
     "output_type": "execute_result"
    }
   ],
   "source": [
    "t_rv = sts.t(15)\n",
    "t_rv.ppf(0.95)"
   ]
  },
  {
   "cell_type": "code",
   "execution_count": null,
   "metadata": {},
   "outputs": [],
   "source": [
    "# Distribution Calculator показывает интервал 0.9\n",
    "# при уровне доверия 95% интервал шире"
   ]
  },
  {
   "cell_type": "markdown",
   "metadata": {},
   "source": [
    "- Сгенерируйте 2 выборки с одинаковыми параметрами, отличающиеся в 2 раза по размеру. Постройте 2 90% ДИ. Чем они отличаются? Распределение $\\mathcal{N}(0,2)$ "
   ]
  },
  {
   "cell_type": "code",
   "execution_count": 213,
   "metadata": {
    "scrolled": true
   },
   "outputs": [
    {
     "name": "stdout",
     "output_type": "stream",
     "text": [
      "left bound 1 = -0.2505157122904329, right bound 1 = 0.6911238128281444\n",
      "left bound 2 = -0.4824099253638432, right bound 1 = 0.9780975292574114\n"
     ]
    }
   ],
   "source": [
    "norm_rv = stats.norm(0, 2)\n",
    "#your code here\n",
    "sample_norm_1 = norm_rv.rvs(200)\n",
    "sample_norm_2 = norm_rv.rvs(100)\n",
    "# строим доверительные интервалы в две сигмы, т.к. 90% интервал непонятно как построить\n",
    "mean_sample_norm_1 = sample_norm_1.mean()\n",
    "var_sample_norm_1 = sample_norm_1.var()\n",
    "se_sample_norm_1 = var_sample_norm_1 / (len(sample_norm_1)**0.5)\n",
    "\n",
    "mean_sample_norm_2 = sample_norm_2.mean()\n",
    "var_sample_norm_2 = sample_norm_2.var()\n",
    "se_sample_norm_2 = var_sample_norm_2 / (len(sample_norm_2)**0.5)\n",
    "\n",
    "print(f'left bound 1 = {mean_sample_norm_1 - 2*se_sample_norm_1}, right bound 1 = {mean_sample_norm_1 + 2*se_sample_norm_1}' )\n",
    "print(f'left bound 2 = {mean_sample_norm_2 - 2*se_sample_norm_2}, right bound 1 = {mean_sample_norm_2 + 2*se_sample_norm_2}' )\n"
   ]
  },
  {
   "cell_type": "code",
   "execution_count": null,
   "metadata": {},
   "outputs": [],
   "source": [
    "# ответ: у меньшей выборки доверительный интервал уже"
   ]
  },
  {
   "cell_type": "markdown",
   "metadata": {},
   "source": [
    "- Пусть $H_0: M=100$. Мы получили $p = 0,12$ и не смогли отклонить нулевую гипотезу. Однако позже выяснилось, что среднее в генеральной совокупности равняется 114. Ошибку какого рода мы допустили?"
   ]
  },
  {
   "cell_type": "code",
   "execution_count": 111,
   "metadata": {},
   "outputs": [],
   "source": [
    "#your answer here\n",
    "# ложноотрицательный вывод"
   ]
  },
  {
   "cell_type": "markdown",
   "metadata": {},
   "source": [
    "#### Какие рассуждения относительно p-value верные?\n",
    "\n",
    "- Елси p уровень значимости равен 0,003, то вероятность того, что верна нулевая гипотеза также равняется  0,003.\n",
    "- Если бы в исследовании мы получили $p=0,9$, это означало бы, что верна нулевая гипотеза.\n",
    "- Чем меньше p уровень значимости, тем сильнее получаемые различия.\n"
   ]
  },
  {
   "cell_type": "code",
   "execution_count": 211,
   "metadata": {},
   "outputs": [],
   "source": [
    "#your answer here\n",
    "# Верное рассуждение: Если бы в исследовании мы получили  p=0,9 , это означало бы, что верна нулевая гипотеза.\n",
    "# Иными словами p value это вероятность встретить близкий результат при повторной выборке, если нулевая гипотеза верна.\n"
   ]
  },
  {
   "cell_type": "markdown",
   "metadata": {},
   "source": [
    "- Какое $p$-value будете использовать, если отклонять $H_0$ рисковано: $0.05$ или $0.01$? Является ли 99\\% доверительный интервал хорошей оценкой в общем случае?"
   ]
  },
  {
   "cell_type": "code",
   "execution_count": 112,
   "metadata": {},
   "outputs": [],
   "source": [
    "#your answer here\n",
    "# Ответы:\n",
    "# Какое $p$-value будете использовать, если отклонять $H_0$ рисковано: $0.05$ или $0.01$? - 0.01\n",
    "# Является ли 99% доверительный интервал хорошей оценкой в общем случае? - нет"
   ]
  },
  {
   "cell_type": "markdown",
   "metadata": {},
   "source": [
    "## Стьюдент и корреляция"
   ]
  },
  {
   "cell_type": "markdown",
   "metadata": {},
   "source": [
    "- Изобразите графики плотности распределения Стьюдента для нескольких значений df= (5,10, 20, 40) и $\\mathcal{N}(0,1)$. В чем отличия?"
   ]
  },
  {
   "cell_type": "code",
   "execution_count": 214,
   "metadata": {
    "scrolled": true
   },
   "outputs": [
    {
     "data": {
      "text/plain": [
       "<matplotlib.legend.Legend at 0x1b071ccc6a0>"
      ]
     },
     "execution_count": 214,
     "metadata": {},
     "output_type": "execute_result"
    },
    {
     "data": {
      "image/png": "[encoded data removed]",
      "text/plain": [
       "<Figure size 864x432 with 1 Axes>"
      ]
     },
     "metadata": {
      "needs_background": "light"
     },
     "output_type": "display_data"
    }
   ],
   "source": [
    "#your code here\n",
    "import scipy.stats as sts\n",
    "import numpy as np\n",
    "from matplotlib import pyplot as plt\n",
    "%matplotlib inline\n",
    "\n",
    "t_rv_1 = sts.t(5)\n",
    "t_rv_2 = sts.t(10)\n",
    "t_rv_3 = sts.t(20)\n",
    "t_rv_4 = sts.t(40)\n",
    "norm_rv = sts.norm(0, 1)\n",
    "\n",
    "\n",
    "x = np.linspace(-4, 4, 100)\n",
    "plt.figure(figsize=(12,6))\n",
    "\n",
    "pdf_1 = t_rv_1.pdf(x)\n",
    "plt.plot(x, pdf_1)\n",
    "\n",
    "pdf_2 = t_rv_2.pdf(x)\n",
    "plt.plot(x, pdf_2)\n",
    "\n",
    "pdf_3 = t_rv_3.pdf(x)\n",
    "plt.plot(x, pdf_3)\n",
    "\n",
    "pdf_4 = t_rv_4.pdf(x)\n",
    "plt.plot(x, pdf_4)\n",
    "\n",
    "pdf_norm = norm_rv.pdf(x)\n",
    "plt.plot(x, pdf_norm)\n",
    "\n",
    "\n",
    "plt.legend(['Student df=5', 'Student df=10', 'Student df=20', 'Student df=40', 'norm a=0, sigma=1'])"
   ]
  },
  {
   "cell_type": "code",
   "execution_count": null,
   "metadata": {},
   "outputs": [],
   "source": [
    "# чем меньше степень свободы, тем больше дисперсия и на концах графика значения плотности будут больше (синий график выше остальных)"
   ]
  },
  {
   "cell_type": "markdown",
   "metadata": {},
   "source": [
    "- Постройте две выборки, чтобы их корреляция была равна -1. Изобразите зависимость на графике."
   ]
  },
  {
   "cell_type": "code",
   "execution_count": 217,
   "metadata": {
    "scrolled": true
   },
   "outputs": [
    {
     "data": {
      "text/plain": [
       "array([ 0.        ,  0.1010101 ,  0.2020202 ,  0.3030303 ,  0.4040404 ,\n",
       "        0.50505051,  0.60606061,  0.70707071,  0.80808081,  0.90909091,\n",
       "        1.01010101,  1.11111111,  1.21212121,  1.31313131,  1.41414141,\n",
       "        1.51515152,  1.61616162,  1.71717172,  1.81818182,  1.91919192,\n",
       "        2.02020202,  2.12121212,  2.22222222,  2.32323232,  2.42424242,\n",
       "        2.52525253,  2.62626263,  2.72727273,  2.82828283,  2.92929293,\n",
       "        3.03030303,  3.13131313,  3.23232323,  3.33333333,  3.43434343,\n",
       "        3.53535354,  3.63636364,  3.73737374,  3.83838384,  3.93939394,\n",
       "        4.04040404,  4.14141414,  4.24242424,  4.34343434,  4.44444444,\n",
       "        4.54545455,  4.64646465,  4.74747475,  4.84848485,  4.94949495,\n",
       "        5.05050505,  5.15151515,  5.25252525,  5.35353535,  5.45454545,\n",
       "        5.55555556,  5.65656566,  5.75757576,  5.85858586,  5.95959596,\n",
       "        6.06060606,  6.16161616,  6.26262626,  6.36363636,  6.46464646,\n",
       "        6.56565657,  6.66666667,  6.76767677,  6.86868687,  6.96969697,\n",
       "        7.07070707,  7.17171717,  7.27272727,  7.37373737,  7.47474747,\n",
       "        7.57575758,  7.67676768,  7.77777778,  7.87878788,  7.97979798,\n",
       "        8.08080808,  8.18181818,  8.28282828,  8.38383838,  8.48484848,\n",
       "        8.58585859,  8.68686869,  8.78787879,  8.88888889,  8.98989899,\n",
       "        9.09090909,  9.19191919,  9.29292929,  9.39393939,  9.49494949,\n",
       "        9.5959596 ,  9.6969697 ,  9.7979798 ,  9.8989899 , 10.        ])"
      ]
     },
     "execution_count": 217,
     "metadata": {},
     "output_type": "execute_result"
    }
   ],
   "source": [
    "#your code here\n",
    "u = np.linspace(0, 10, 100)\n",
    "u"
   ]
  },
  {
   "cell_type": "code",
   "execution_count": 218,
   "metadata": {
    "scrolled": true
   },
   "outputs": [
    {
     "data": {
      "text/plain": [
       "array([  0.        ,  -0.1010101 ,  -0.2020202 ,  -0.3030303 ,\n",
       "        -0.4040404 ,  -0.50505051,  -0.60606061,  -0.70707071,\n",
       "        -0.80808081,  -0.90909091,  -1.01010101,  -1.11111111,\n",
       "        -1.21212121,  -1.31313131,  -1.41414141,  -1.51515152,\n",
       "        -1.61616162,  -1.71717172,  -1.81818182,  -1.91919192,\n",
       "        -2.02020202,  -2.12121212,  -2.22222222,  -2.32323232,\n",
       "        -2.42424242,  -2.52525253,  -2.62626263,  -2.72727273,\n",
       "        -2.82828283,  -2.92929293,  -3.03030303,  -3.13131313,\n",
       "        -3.23232323,  -3.33333333,  -3.43434343,  -3.53535354,\n",
       "        -3.63636364,  -3.73737374,  -3.83838384,  -3.93939394,\n",
       "        -4.04040404,  -4.14141414,  -4.24242424,  -4.34343434,\n",
       "        -4.44444444,  -4.54545455,  -4.64646465,  -4.74747475,\n",
       "        -4.84848485,  -4.94949495,  -5.05050505,  -5.15151515,\n",
       "        -5.25252525,  -5.35353535,  -5.45454545,  -5.55555556,\n",
       "        -5.65656566,  -5.75757576,  -5.85858586,  -5.95959596,\n",
       "        -6.06060606,  -6.16161616,  -6.26262626,  -6.36363636,\n",
       "        -6.46464646,  -6.56565657,  -6.66666667,  -6.76767677,\n",
       "        -6.86868687,  -6.96969697,  -7.07070707,  -7.17171717,\n",
       "        -7.27272727,  -7.37373737,  -7.47474747,  -7.57575758,\n",
       "        -7.67676768,  -7.77777778,  -7.87878788,  -7.97979798,\n",
       "        -8.08080808,  -8.18181818,  -8.28282828,  -8.38383838,\n",
       "        -8.48484848,  -8.58585859,  -8.68686869,  -8.78787879,\n",
       "        -8.88888889,  -8.98989899,  -9.09090909,  -9.19191919,\n",
       "        -9.29292929,  -9.39393939,  -9.49494949,  -9.5959596 ,\n",
       "        -9.6969697 ,  -9.7979798 ,  -9.8989899 , -10.        ])"
      ]
     },
     "execution_count": 218,
     "metadata": {},
     "output_type": "execute_result"
    }
   ],
   "source": [
    "p = np.linspace(0, -10, 100)\n",
    "p"
   ]
  },
  {
   "cell_type": "code",
   "execution_count": 234,
   "metadata": {},
   "outputs": [
    {
     "data": {
      "text/plain": [
       "Text(0.5,0,'выборка u')"
      ]
     },
     "execution_count": 234,
     "metadata": {},
     "output_type": "execute_result"
    },
    {
     "data": {
      "image/png": "[encoded data removed]",
      "text/plain": [
       "<Figure size 432x288 with 1 Axes>"
      ]
     },
     "metadata": {
      "needs_background": "light"
     },
     "output_type": "display_data"
    },
    {
     "data": {
      "image/png": "[encoded data removed]",
      "text/plain": [
       "<Figure size 1080x576 with 1 Axes>"
      ]
     },
     "metadata": {
      "needs_background": "light"
     },
     "output_type": "display_data"
    }
   ],
   "source": [
    "plt.plot(u, p)\n",
    "plt.figure(figsize=(15, 8))\n",
    "plt.ylabel('выборка p')\n",
    "plt.xlabel('выборка u')"
   ]
  },
  {
   "cell_type": "markdown",
   "metadata": {},
   "source": [
    "- Постройте две выборки, чтобы их корреляция была равна 0. Изобразите зависимость на графике."
   ]
  },
  {
   "cell_type": "code",
   "execution_count": null,
   "metadata": {},
   "outputs": [],
   "source": [
    "#your code here\n",
    "# нужны пояснения, не понял как это сделать"
   ]
  },
  {
   "cell_type": "markdown",
   "metadata": {},
   "source": [
    "- Сгенерируйте 2 выборки из $\\mathcal{N}(4,2)$, посчитайте их общий ранг и сумму рангов в каждой выборке."
   ]
  },
  {
   "cell_type": "code",
   "execution_count": 114,
   "metadata": {},
   "outputs": [],
   "source": [
    "# создадим две выборки по 100 элементов\n",
    "norm_rv = stats.norm(4,2)\n",
    "sample_1 = norm_rv.rvs(100)\n",
    "sample_2 = norm_rv.rvs(100)\n",
    "# sample = np.concatenate((sample_1, sample_2))\n"
   ]
  },
  {
   "cell_type": "code",
   "execution_count": 129,
   "metadata": {},
   "outputs": [],
   "source": [
    "# мне удобнее работать с датафреймом пандас. Переведем данные в этот объект и добавим поле 'sample_num' - принадлежность к выборке 1 или 2\n",
    "sample_1_df = pd.DataFrame(sample_1)\n",
    "sample_1_df['sample_num'] = '1'\n",
    "sample_2_df = pd.DataFrame(sample_2)\n",
    "sample_2_df['sample_num'] = '2'"
   ]
  },
  {
   "cell_type": "code",
   "execution_count": null,
   "metadata": {},
   "outputs": [],
   "source": [
    "# соединим два датафрейма по axis=0\n",
    "sample_df = pd.concat([sample_1_df, sample_2_df], axis=0)"
   ]
  },
  {
   "cell_type": "code",
   "execution_count": 138,
   "metadata": {},
   "outputs": [
    {
     "data": {
      "text/html": [
       "<div>\n",
       "<style scoped>\n",
       "    .dataframe tbody tr th:only-of-type {\n",
       "        vertical-align: middle;\n",
       "    }\n",
       "\n",
       "    .dataframe tbody tr th {\n",
       "        vertical-align: top;\n",
       "    }\n",
       "\n",
       "    .dataframe thead th {\n",
       "        text-align: right;\n",
       "    }\n",
       "</style>\n",
       "<table border=\"1\" class=\"dataframe\">\n",
       "  <thead>\n",
       "    <tr style=\"text-align: right;\">\n",
       "      <th></th>\n",
       "      <th>0</th>\n",
       "      <th>sample_num</th>\n",
       "    </tr>\n",
       "  </thead>\n",
       "  <tbody>\n",
       "    <tr>\n",
       "      <th>77</th>\n",
       "      <td>-0.635933</td>\n",
       "      <td>2</td>\n",
       "    </tr>\n",
       "    <tr>\n",
       "      <th>62</th>\n",
       "      <td>-0.540160</td>\n",
       "      <td>1</td>\n",
       "    </tr>\n",
       "    <tr>\n",
       "      <th>9</th>\n",
       "      <td>0.040549</td>\n",
       "      <td>1</td>\n",
       "    </tr>\n",
       "    <tr>\n",
       "      <th>45</th>\n",
       "      <td>0.119633</td>\n",
       "      <td>2</td>\n",
       "    </tr>\n",
       "    <tr>\n",
       "      <th>95</th>\n",
       "      <td>0.544121</td>\n",
       "      <td>1</td>\n",
       "    </tr>\n",
       "  </tbody>\n",
       "</table>\n",
       "</div>"
      ],
      "text/plain": [
       "           0 sample_num\n",
       "77 -0.635933          2\n",
       "62 -0.540160          1\n",
       "9   0.040549          1\n",
       "45  0.119633          2\n",
       "95  0.544121          1"
      ]
     },
     "execution_count": 138,
     "metadata": {},
     "output_type": "execute_result"
    }
   ],
   "source": [
    "# отсортируем по значению\n",
    "sample_df.sort_values(by = [0]).head()"
   ]
  },
  {
   "cell_type": "code",
   "execution_count": 139,
   "metadata": {},
   "outputs": [
    {
     "data": {
      "text/html": [
       "<div>\n",
       "<style scoped>\n",
       "    .dataframe tbody tr th:only-of-type {\n",
       "        vertical-align: middle;\n",
       "    }\n",
       "\n",
       "    .dataframe tbody tr th {\n",
       "        vertical-align: top;\n",
       "    }\n",
       "\n",
       "    .dataframe thead th {\n",
       "        text-align: right;\n",
       "    }\n",
       "</style>\n",
       "<table border=\"1\" class=\"dataframe\">\n",
       "  <thead>\n",
       "    <tr style=\"text-align: right;\">\n",
       "      <th></th>\n",
       "      <th>index</th>\n",
       "      <th>0</th>\n",
       "      <th>sample_num</th>\n",
       "    </tr>\n",
       "  </thead>\n",
       "  <tbody>\n",
       "    <tr>\n",
       "      <th>0</th>\n",
       "      <td>77</td>\n",
       "      <td>-0.635933</td>\n",
       "      <td>2</td>\n",
       "    </tr>\n",
       "    <tr>\n",
       "      <th>1</th>\n",
       "      <td>62</td>\n",
       "      <td>-0.540160</td>\n",
       "      <td>1</td>\n",
       "    </tr>\n",
       "    <tr>\n",
       "      <th>2</th>\n",
       "      <td>9</td>\n",
       "      <td>0.040549</td>\n",
       "      <td>1</td>\n",
       "    </tr>\n",
       "    <tr>\n",
       "      <th>3</th>\n",
       "      <td>45</td>\n",
       "      <td>0.119633</td>\n",
       "      <td>2</td>\n",
       "    </tr>\n",
       "    <tr>\n",
       "      <th>4</th>\n",
       "      <td>95</td>\n",
       "      <td>0.544121</td>\n",
       "      <td>1</td>\n",
       "    </tr>\n",
       "  </tbody>\n",
       "</table>\n",
       "</div>"
      ],
      "text/plain": [
       "   index         0 sample_num\n",
       "0     77 -0.635933          2\n",
       "1     62 -0.540160          1\n",
       "2      9  0.040549          1\n",
       "3     45  0.119633          2\n",
       "4     95  0.544121          1"
      ]
     },
     "execution_count": 139,
     "metadata": {},
     "output_type": "execute_result"
    }
   ],
   "source": [
    "# сбросим индексы\n",
    "sample_df.sort_values(by = [0]).reset_index().head()"
   ]
  },
  {
   "cell_type": "code",
   "execution_count": 158,
   "metadata": {},
   "outputs": [
    {
     "data": {
      "text/html": [
       "<div>\n",
       "<style scoped>\n",
       "    .dataframe tbody tr th:only-of-type {\n",
       "        vertical-align: middle;\n",
       "    }\n",
       "\n",
       "    .dataframe tbody tr th {\n",
       "        vertical-align: top;\n",
       "    }\n",
       "\n",
       "    .dataframe thead th {\n",
       "        text-align: right;\n",
       "    }\n",
       "</style>\n",
       "<table border=\"1\" class=\"dataframe\">\n",
       "  <thead>\n",
       "    <tr style=\"text-align: right;\">\n",
       "      <th></th>\n",
       "      <th>index</th>\n",
       "      <th>0</th>\n",
       "      <th>sample_num</th>\n",
       "    </tr>\n",
       "  </thead>\n",
       "  <tbody>\n",
       "    <tr>\n",
       "      <th>1</th>\n",
       "      <td>62</td>\n",
       "      <td>-0.540160</td>\n",
       "      <td>1</td>\n",
       "    </tr>\n",
       "    <tr>\n",
       "      <th>2</th>\n",
       "      <td>9</td>\n",
       "      <td>0.040549</td>\n",
       "      <td>1</td>\n",
       "    </tr>\n",
       "    <tr>\n",
       "      <th>4</th>\n",
       "      <td>95</td>\n",
       "      <td>0.544121</td>\n",
       "      <td>1</td>\n",
       "    </tr>\n",
       "    <tr>\n",
       "      <th>5</th>\n",
       "      <td>65</td>\n",
       "      <td>0.689519</td>\n",
       "      <td>1</td>\n",
       "    </tr>\n",
       "    <tr>\n",
       "      <th>8</th>\n",
       "      <td>34</td>\n",
       "      <td>0.809592</td>\n",
       "      <td>1</td>\n",
       "    </tr>\n",
       "    <tr>\n",
       "      <th>9</th>\n",
       "      <td>64</td>\n",
       "      <td>0.847215</td>\n",
       "      <td>1</td>\n",
       "    </tr>\n",
       "    <tr>\n",
       "      <th>10</th>\n",
       "      <td>79</td>\n",
       "      <td>0.945152</td>\n",
       "      <td>1</td>\n",
       "    </tr>\n",
       "    <tr>\n",
       "      <th>11</th>\n",
       "      <td>17</td>\n",
       "      <td>1.050007</td>\n",
       "      <td>1</td>\n",
       "    </tr>\n",
       "    <tr>\n",
       "      <th>14</th>\n",
       "      <td>92</td>\n",
       "      <td>1.290672</td>\n",
       "      <td>1</td>\n",
       "    </tr>\n",
       "    <tr>\n",
       "      <th>15</th>\n",
       "      <td>69</td>\n",
       "      <td>1.347513</td>\n",
       "      <td>1</td>\n",
       "    </tr>\n",
       "  </tbody>\n",
       "</table>\n",
       "</div>"
      ],
      "text/plain": [
       "    index         0 sample_num\n",
       "1      62 -0.540160          1\n",
       "2       9  0.040549          1\n",
       "4      95  0.544121          1\n",
       "5      65  0.689519          1\n",
       "8      34  0.809592          1\n",
       "9      64  0.847215          1\n",
       "10     79  0.945152          1\n",
       "11     17  1.050007          1\n",
       "14     92  1.290672          1\n",
       "15     69  1.347513          1"
      ]
     },
     "execution_count": 158,
     "metadata": {},
     "output_type": "execute_result"
    }
   ],
   "source": [
    "# назовем объединенный и отсортированный датафрейм df\n",
    "df = sample_df.sort_values(by = [0]).reset_index()\n",
    "df[df['sample_num'] == '1'].head(10)"
   ]
  },
  {
   "cell_type": "code",
   "execution_count": 160,
   "metadata": {},
   "outputs": [
    {
     "data": {
      "text/plain": [
       "4950"
      ]
     },
     "execution_count": 160,
     "metadata": {},
     "output_type": "execute_result"
    }
   ],
   "source": [
    "# отфильтруем индексы, принадлежащие значениям из первой ввыборки и вычислим их сумму\n",
    "sum(df['index'][df['sample_num'] == '1'])"
   ]
  },
  {
   "cell_type": "code",
   "execution_count": 161,
   "metadata": {},
   "outputs": [
    {
     "data": {
      "text/plain": [
       "4950"
      ]
     },
     "execution_count": 161,
     "metadata": {},
     "output_type": "execute_result"
    }
   ],
   "source": [
    "# отфильтруем индексы, принадлежащие значениям из второй ввыборки и вычислим их сумму\n",
    "sum(df['index'][df['sample_num'] == '2'])"
   ]
  },
  {
   "cell_type": "code",
   "execution_count": null,
   "metadata": {},
   "outputs": [],
   "source": []
  }
 ],
 "metadata": {
  "kernelspec": {
   "display_name": "Python 3",
   "language": "python",
   "name": "python3"
  },
  "language_info": {
   "codemirror_mode": {
    "name": "ipython",
    "version": 3
   },
   "file_extension": ".py",
   "mimetype": "text/x-python",
   "name": "python",
   "nbconvert_exporter": "python",
   "pygments_lexer": "ipython3",
   "version": "3.7.0"
  }
 },
 "nbformat": 4,
 "nbformat_minor": 2
}
