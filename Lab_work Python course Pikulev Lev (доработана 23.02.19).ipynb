{
 "cells": [
  {
   "cell_type": "markdown",
   "metadata": {},
   "source": [
    "Списки и строки:\n",
    "1. Дан произвольный список, содержащий только числа. Выведите результат сложения всех чисел больше 10. "
   ]
  },
  {
   "cell_type": "code",
   "execution_count": null,
   "metadata": {},
   "outputs": [],
   "source": [
    "# первоначальное  решение"
   ]
  },
  {
   "cell_type": "code",
   "execution_count": 1,
   "metadata": {},
   "outputs": [],
   "source": [
    "def list_number_addition(list_number):\n",
    "    \"\"\"Функция получает на вход список, содержащий только числа. \n",
    "    Выводит сумму только тех чиселиз списка, которые больше 10\"\"\"\n",
    "    answer = 0\n",
    "    for number in list_number:\n",
    "        if number > 10:\n",
    "            answer += number\n",
    "    return answer\n",
    "            "
   ]
  },
  {
   "cell_type": "code",
   "execution_count": 2,
   "metadata": {},
   "outputs": [],
   "source": [
    "#проверим для произвольного списка\n",
    "list_number = [1, 3, 14, 26, -5]"
   ]
  },
  {
   "cell_type": "code",
   "execution_count": 3,
   "metadata": {},
   "outputs": [
    {
     "data": {
      "text/plain": [
       "40"
      ]
     },
     "execution_count": 3,
     "metadata": {},
     "output_type": "execute_result"
    }
   ],
   "source": [
    "list_number_addition(list_number)"
   ]
  },
  {
   "cell_type": "code",
   "execution_count": 8,
   "metadata": {},
   "outputs": [
    {
     "data": {
      "text/plain": [
       "40"
      ]
     },
     "execution_count": 8,
     "metadata": {},
     "output_type": "execute_result"
    }
   ],
   "source": [
    "# более оптимальное решение на numpy\n",
    "import numpy as np\n",
    "numpy_numbers = np.array(list_number)\n",
    "greater_10 = numpy_numbers[numpy_numbers>10]\n",
    "sum_ = sum(greater_10)\n",
    "sum_"
   ]
  },
  {
   "cell_type": "markdown",
   "metadata": {},
   "source": [
    "2. Пусть задан список, содержащий строки. Выведите все строки, заканчивающиеся буквой r."
   ]
  },
  {
   "cell_type": "code",
   "execution_count": 11,
   "metadata": {},
   "outputs": [],
   "source": [
    "# первоначальное решение\n",
    "def list_r(string_list):\n",
    "    \"\"\"Функция получает на вход список, содержащий только строки. \n",
    "    Выводит все строки, заканчивающиеся буквой r\"\"\"\n",
    "    for string in string_list:\n",
    "        if string[-1] == 'r':\n",
    "            print(string)"
   ]
  },
  {
   "cell_type": "code",
   "execution_count": 12,
   "metadata": {},
   "outputs": [],
   "source": [
    "#проверим для произвольного списка\n",
    "string_list = ['return', 'docker', 'dzhumurat', 'r+r_', ' error ', 'r%', 'horror']"
   ]
  },
  {
   "cell_type": "code",
   "execution_count": 13,
   "metadata": {
    "scrolled": true
   },
   "outputs": [
    {
     "name": "stdout",
     "output_type": "stream",
     "text": [
      "docker\n",
      "horror\n"
     ]
    }
   ],
   "source": [
    "list_r(string_list)"
   ]
  },
  {
   "cell_type": "code",
   "execution_count": 17,
   "metadata": {},
   "outputs": [
    {
     "name": "stdout",
     "output_type": "stream",
     "text": [
      "docker\n",
      "horror\n"
     ]
    },
    {
     "ename": "IndexError",
     "evalue": "string index out of range",
     "output_type": "error",
     "traceback": [
      "\u001b[1;31m---------------------------------------------------------------------------\u001b[0m",
      "\u001b[1;31mIndexError\u001b[0m                                Traceback (most recent call last)",
      "\u001b[1;32m<ipython-input-17-9dbe919a4380>\u001b[0m in \u001b[0;36m<module>\u001b[1;34m()\u001b[0m\n\u001b[0;32m      1\u001b[0m \u001b[1;31m# добавим пустую строку в список\u001b[0m\u001b[1;33m\u001b[0m\u001b[1;33m\u001b[0m\u001b[0m\n\u001b[0;32m      2\u001b[0m \u001b[0mstring_list\u001b[0m \u001b[1;33m=\u001b[0m \u001b[1;33m[\u001b[0m\u001b[1;34m'return'\u001b[0m\u001b[1;33m,\u001b[0m \u001b[1;34m'docker'\u001b[0m\u001b[1;33m,\u001b[0m \u001b[1;34m'dzhumurat'\u001b[0m\u001b[1;33m,\u001b[0m \u001b[1;34m'r+r_'\u001b[0m\u001b[1;33m,\u001b[0m \u001b[1;34m' error '\u001b[0m\u001b[1;33m,\u001b[0m \u001b[1;34m'r%'\u001b[0m\u001b[1;33m,\u001b[0m \u001b[1;34m'horror'\u001b[0m\u001b[1;33m,\u001b[0m \u001b[1;34m''\u001b[0m\u001b[1;33m]\u001b[0m\u001b[1;33m\u001b[0m\u001b[0m\n\u001b[1;32m----> 3\u001b[1;33m \u001b[0mlist_r\u001b[0m\u001b[1;33m(\u001b[0m\u001b[0mstring_list\u001b[0m\u001b[1;33m)\u001b[0m\u001b[1;33m\u001b[0m\u001b[0m\n\u001b[0m",
      "\u001b[1;32m<ipython-input-11-e8dc6086758c>\u001b[0m in \u001b[0;36mlist_r\u001b[1;34m(string_list)\u001b[0m\n\u001b[0;32m      4\u001b[0m     Выводит все строки, заканчивающиеся буквой r\"\"\"\n\u001b[0;32m      5\u001b[0m     \u001b[1;32mfor\u001b[0m \u001b[0mstring\u001b[0m \u001b[1;32min\u001b[0m \u001b[0mstring_list\u001b[0m\u001b[1;33m:\u001b[0m\u001b[1;33m\u001b[0m\u001b[0m\n\u001b[1;32m----> 6\u001b[1;33m         \u001b[1;32mif\u001b[0m \u001b[0mstring\u001b[0m\u001b[1;33m[\u001b[0m\u001b[1;33m-\u001b[0m\u001b[1;36m1\u001b[0m\u001b[1;33m]\u001b[0m \u001b[1;33m==\u001b[0m \u001b[1;34m'r'\u001b[0m\u001b[1;33m:\u001b[0m\u001b[1;33m\u001b[0m\u001b[0m\n\u001b[0m\u001b[0;32m      7\u001b[0m             \u001b[0mprint\u001b[0m\u001b[1;33m(\u001b[0m\u001b[0mstring\u001b[0m\u001b[1;33m)\u001b[0m\u001b[1;33m\u001b[0m\u001b[0m\n",
      "\u001b[1;31mIndexError\u001b[0m: string index out of range"
     ]
    }
   ],
   "source": [
    "# добавим пустую строку в список\n",
    "string_list = ['return', 'docker', 'dzhumurat', 'r+r_', ' error ', 'r%', 'horror', '']\n",
    "list_r(string_list)"
   ]
  },
  {
   "cell_type": "code",
   "execution_count": 15,
   "metadata": {
    "scrolled": true
   },
   "outputs": [
    {
     "name": "stdout",
     "output_type": "stream",
     "text": [
      "['docker', 'horror']\n"
     ]
    }
   ],
   "source": [
    "# доработанное решение (при наличии пустой строки '' в списке ошибки не будет)\n",
    "string_list = ['return', 'docker', 'dzhumurat', 'r+r_', ' error ', 'r%', 'horror', '']\n",
    "print([x for x in string_list if str(x).endswith('r')])"
   ]
  },
  {
   "cell_type": "code",
   "execution_count": 18,
   "metadata": {},
   "outputs": [],
   "source": [
    "# менее элегантный, но тоже работающий вариант\n",
    "def list_r(string_list):\n",
    "    \"\"\"Функция получает на вход список, содержащий только строки. \n",
    "    Выводит все строки, заканчивающиеся буквой r\"\"\"\n",
    "    for string in string_list:\n",
    "        try:\n",
    "            if string[-1] == 'r':\n",
    "                print(string)\n",
    "        except IndexError:\n",
    "            pass"
   ]
  },
  {
   "cell_type": "code",
   "execution_count": 19,
   "metadata": {},
   "outputs": [
    {
     "name": "stdout",
     "output_type": "stream",
     "text": [
      "docker\n",
      "horror\n"
     ]
    }
   ],
   "source": [
    "string_list = ['return', 'docker', 'dzhumurat', 'r+r_', ' error ', 'r%', 'horror', '']\n",
    "list_r(string_list)"
   ]
  },
  {
   "cell_type": "markdown",
   "metadata": {},
   "source": [
    "3. Сгенерируйте и выведите cлучайную строку размером 6 символов, содержащую только цифры. Строка должна\n",
    "содержать хотя бы одну цифру 3."
   ]
  },
  {
   "cell_type": "code",
   "execution_count": 18,
   "metadata": {},
   "outputs": [],
   "source": [
    "import string\n",
    "import random"
   ]
  },
  {
   "cell_type": "code",
   "execution_count": 20,
   "metadata": {},
   "outputs": [
    {
     "data": {
      "text/plain": [
       "'0123456789'"
      ]
     },
     "execution_count": 20,
     "metadata": {},
     "output_type": "execute_result"
    }
   ],
   "source": [
    "#строка с возможными цифрами\n",
    "string.digits"
   ]
  },
  {
   "cell_type": "code",
   "execution_count": 21,
   "metadata": {},
   "outputs": [
    {
     "data": {
      "text/plain": [
       "['3', '9', '3', '9', '8', '5']"
      ]
     },
     "execution_count": 21,
     "metadata": {},
     "output_type": "execute_result"
    }
   ],
   "source": [
    "#используем лист компрехенш для списка из 6 элементов\n",
    "[random.choice(string.digits) for _ in range(6)]"
   ]
  },
  {
   "cell_type": "code",
   "execution_count": 28,
   "metadata": {},
   "outputs": [
    {
     "data": {
      "text/plain": [
       "'924397'"
      ]
     },
     "execution_count": 28,
     "metadata": {},
     "output_type": "execute_result"
    }
   ],
   "source": [
    "#сделаем из списка строку через метод join \n",
    "''.join([random.choice(string.digits) for _ in range(6)])"
   ]
  },
  {
   "cell_type": "code",
   "execution_count": 29,
   "metadata": {},
   "outputs": [],
   "source": [
    "def random_list(string_length):\n",
    "    \"\"\"функция возвращает cлучайную строку размером 6 символов, \n",
    "    содержащую только цифры, одна из которых обязательно 3. \"\"\"\n",
    "    x = [random.choice(string.digits) for _ in range(string_length)]\n",
    "    if '3' in x:\n",
    "        return ''.join(x)\n",
    "    else:\n",
    "        return random_list(string_length)"
   ]
  },
  {
   "cell_type": "code",
   "execution_count": 30,
   "metadata": {},
   "outputs": [
    {
     "data": {
      "text/plain": [
       "'958317'"
      ]
     },
     "execution_count": 30,
     "metadata": {},
     "output_type": "execute_result"
    }
   ],
   "source": [
    "#проверим\n",
    "random_list(6)"
   ]
  },
  {
   "cell_type": "markdown",
   "metadata": {},
   "source": [
    "4. Пусть дана строка произвольной длины. Выведите информацию о том, сколько в ней символов и сколько слов"
   ]
  },
  {
   "cell_type": "code",
   "execution_count": 34,
   "metadata": {},
   "outputs": [],
   "source": [
    "some_string = 'Не секрет, что Python не оптимизирует хвостовую рекурсию. Более того сам Гвидо является противником этого.'"
   ]
  },
  {
   "cell_type": "code",
   "execution_count": 78,
   "metadata": {},
   "outputs": [
    {
     "data": {
      "text/plain": [
       "106"
      ]
     },
     "execution_count": 78,
     "metadata": {},
     "output_type": "execute_result"
    }
   ],
   "source": [
    "#количество символов:\n",
    "len(some_string) "
   ]
  },
  {
   "cell_type": "code",
   "execution_count": 84,
   "metadata": {},
   "outputs": [
    {
     "data": {
      "text/plain": [
       "'Не секрет  что Python не оптимизирует хвостовую рекурсию  Более того сам Гвидо является противником этого '"
      ]
     },
     "execution_count": 84,
     "metadata": {},
     "output_type": "execute_result"
    }
   ],
   "source": [
    "# удалим ненужные разделители и заменим их на пробелы\n",
    "some_string.replace(',', ' ').replace('.', ' ')"
   ]
  },
  {
   "cell_type": "code",
   "execution_count": 85,
   "metadata": {},
   "outputs": [
    {
     "data": {
      "text/plain": [
       "['Не',\n",
       " 'секрет',\n",
       " 'что',\n",
       " 'Python',\n",
       " 'не',\n",
       " 'оптимизирует',\n",
       " 'хвостовую',\n",
       " 'рекурсию',\n",
       " 'Более',\n",
       " 'того',\n",
       " 'сам',\n",
       " 'Гвидо',\n",
       " 'является',\n",
       " 'противником',\n",
       " 'этого']"
      ]
     },
     "execution_count": 85,
     "metadata": {},
     "output_type": "execute_result"
    }
   ],
   "source": [
    "# применим метод split(), чтобы разбить строку на список из отдельных слов\n",
    "some_string.replace(',', ' ').replace('.', ' ').split()"
   ]
  },
  {
   "cell_type": "code",
   "execution_count": 86,
   "metadata": {},
   "outputs": [
    {
     "data": {
      "text/plain": [
       "15"
      ]
     },
     "execution_count": 86,
     "metadata": {},
     "output_type": "execute_result"
    }
   ],
   "source": [
    "# посчитаем кол-во слов\n",
    "len(some_string.replace(',', ' ').replace('.', ' ').split())"
   ]
  },
  {
   "cell_type": "code",
   "execution_count": 87,
   "metadata": {},
   "outputs": [],
   "source": [
    "def string_information(some_string):\n",
    "    \"\"\"функция принимает строку и выдает информацию о количестве символов и слов.\n",
    "    Пример ответа: 'Количество символов = 106; Количество слов = 15'\"\"\"\n",
    "    a = len(some_string) \n",
    "    b = len(some_string.replace(',', ' ').replace('.', ' ').split())\n",
    "    return 'Количество символов = {}; Количество слов = {}'.format(a,b) "
   ]
  },
  {
   "cell_type": "code",
   "execution_count": 88,
   "metadata": {},
   "outputs": [
    {
     "data": {
      "text/plain": [
       "'Количество символов = 106; Количество слов = 15'"
      ]
     },
     "execution_count": 88,
     "metadata": {},
     "output_type": "execute_result"
    }
   ],
   "source": [
    "#проверим\n",
    "string_information(some_string)"
   ]
  },
  {
   "cell_type": "code",
   "execution_count": 89,
   "metadata": {},
   "outputs": [],
   "source": [
    "# есть более универсальный готовый способ при помощи библиотеки re\n",
    "import re"
   ]
  },
  {
   "cell_type": "code",
   "execution_count": 90,
   "metadata": {},
   "outputs": [
    {
     "data": {
      "text/plain": [
       "['Не',\n",
       " 'секрет',\n",
       " 'что',\n",
       " 'Python',\n",
       " 'не',\n",
       " 'оптимизирует',\n",
       " 'хвостовую',\n",
       " 'рекурсию',\n",
       " 'Более',\n",
       " 'того',\n",
       " 'сам',\n",
       " 'Гвидо',\n",
       " 'является',\n",
       " 'противником',\n",
       " 'этого']"
      ]
     },
     "execution_count": 90,
     "metadata": {},
     "output_type": "execute_result"
    }
   ],
   "source": [
    "re.findall(r\"[\\w']+\", some_string)"
   ]
  },
  {
   "cell_type": "code",
   "execution_count": 93,
   "metadata": {},
   "outputs": [
    {
     "data": {
      "text/plain": [
       "['Не',\n",
       " 'секрет',\n",
       " 'что',\n",
       " 'Python',\n",
       " 'не',\n",
       " 'оптимизирует',\n",
       " 'хвостовую',\n",
       " 'рекурсию.',\n",
       " 'Более',\n",
       " 'того',\n",
       " 'сам',\n",
       " 'Гвидо',\n",
       " 'является',\n",
       " 'противником',\n",
       " 'этого.']"
      ]
     },
     "execution_count": 93,
     "metadata": {},
     "output_type": "execute_result"
    }
   ],
   "source": [
    "#можно перечислить разделители в квадратных скобках\n",
    "re.split(\"[, \\-!?:]+\", some_string)   "
   ]
  },
  {
   "cell_type": "markdown",
   "metadata": {},
   "source": [
    "Матрицы. \n",
    "1. Пусть дана матрица чисел размером NхN. Представьте данную матрицу в виде списка. Выведите результат сложения\n",
    "всех элементов матрицы"
   ]
  },
  {
   "cell_type": "code",
   "execution_count": 20,
   "metadata": {},
   "outputs": [],
   "source": [
    "import numpy as np"
   ]
  },
  {
   "cell_type": "code",
   "execution_count": 150,
   "metadata": {},
   "outputs": [
    {
     "data": {
      "text/plain": [
       "array([[0., 0., 0.],\n",
       "       [0., 0., 0.],\n",
       "       [0., 0., 0.]])"
      ]
     },
     "execution_count": 150,
     "metadata": {},
     "output_type": "execute_result"
    }
   ],
   "source": [
    "#создадим нулевую матрицу на 3 строки 3 столбцов\n",
    "some_matrix = np.zeros((3,3))\n",
    "some_matrix"
   ]
  },
  {
   "cell_type": "code",
   "execution_count": 151,
   "metadata": {},
   "outputs": [],
   "source": [
    "#добавим несколько значений"
   ]
  },
  {
   "cell_type": "code",
   "execution_count": 152,
   "metadata": {},
   "outputs": [],
   "source": [
    "some_matrix = np.append(some_matrix, [[4,13,54,7,0]])"
   ]
  },
  {
   "cell_type": "code",
   "execution_count": 167,
   "metadata": {},
   "outputs": [
    {
     "data": {
      "text/plain": [
       "array([ 0.,  0.,  0.,  0.,  0.,  0.,  0.,  0.,  0.,  4., 13., 54.,  7.,\n",
       "        0.])"
      ]
     },
     "execution_count": 167,
     "metadata": {},
     "output_type": "execute_result"
    }
   ],
   "source": [
    "some_matrix.ravel()"
   ]
  },
  {
   "cell_type": "code",
   "execution_count": 168,
   "metadata": {},
   "outputs": [
    {
     "data": {
      "text/plain": [
       "array([ 0.,  0.,  0.,  0.,  0.,  0.,  0.,  0.,  0.,  4., 13., 54.,  7.,\n",
       "        0.])"
      ]
     },
     "execution_count": 168,
     "metadata": {},
     "output_type": "execute_result"
    }
   ],
   "source": [
    "some_matrix"
   ]
  },
  {
   "cell_type": "code",
   "execution_count": 169,
   "metadata": {},
   "outputs": [
    {
     "data": {
      "text/plain": [
       "78.0"
      ]
     },
     "execution_count": 169,
     "metadata": {},
     "output_type": "execute_result"
    }
   ],
   "source": [
    "#просумммируем элементы\n",
    "sum(some_matrix)"
   ]
  },
  {
   "cell_type": "markdown",
   "metadata": {},
   "source": [
    "2. Пусть дана матрица чисел размером NхM. Найти столбец матрицы с максимальной суммой элементов.\n"
   ]
  },
  {
   "cell_type": "code",
   "execution_count": 21,
   "metadata": {},
   "outputs": [],
   "source": [
    "# берем какую-то матрицу\n",
    "users_stats = np.array(\n",
    "    [\n",
    "        [2, 1, 0, 0, 0, 0],\n",
    "        [1, 1, 2, 1, 0, 0],\n",
    "        [2, 0, 1, 0, 0, 0],\n",
    "        [1, 1, 2, 1, 0, 1],\n",
    "        [0, 0, 1, 2, 0, 0],\n",
    "        [0, 0, 0, 0, 0, 5],\n",
    "        [1, 0, 0, 0, 0, 0],\n",
    "        [0, 1, 1, 0, 0, 0],\n",
    "        [0, 0, 0, 1, 1, 3],\n",
    "        [1, 0, 0, 2, 1, 4]\n",
    "    ], \n",
    "    np.int32\n",
    ")"
   ]
  },
  {
   "cell_type": "code",
   "execution_count": null,
   "metadata": {},
   "outputs": [],
   "source": [
    "#транспонируем"
   ]
  },
  {
   "cell_type": "code",
   "execution_count": 22,
   "metadata": {},
   "outputs": [
    {
     "data": {
      "text/plain": [
       "array([[2, 1, 2, 1, 0, 0, 1, 0, 0, 1],\n",
       "       [1, 1, 0, 1, 0, 0, 0, 1, 0, 0],\n",
       "       [0, 2, 1, 2, 1, 0, 0, 1, 0, 0],\n",
       "       [0, 1, 0, 1, 2, 0, 0, 0, 1, 2],\n",
       "       [0, 0, 0, 0, 0, 0, 0, 0, 1, 1],\n",
       "       [0, 0, 0, 1, 0, 5, 0, 0, 3, 4]])"
      ]
     },
     "execution_count": 22,
     "metadata": {},
     "output_type": "execute_result"
    }
   ],
   "source": [
    "np.array(users_stats).T"
   ]
  },
  {
   "cell_type": "code",
   "execution_count": 23,
   "metadata": {},
   "outputs": [
    {
     "data": {
      "text/plain": [
       "13"
      ]
     },
     "execution_count": 23,
     "metadata": {},
     "output_type": "execute_result"
    }
   ],
   "source": [
    "#Находим максимальное значение\n",
    "m = []\n",
    "for i in np.array(users_stats).T:\n",
    "    m.append(sum(i))\n",
    "max(m)"
   ]
  },
  {
   "cell_type": "code",
   "execution_count": 26,
   "metadata": {},
   "outputs": [
    {
     "data": {
      "text/plain": [
       "[8, 4, 7, 7, 2, 13]"
      ]
     },
     "execution_count": 26,
     "metadata": {},
     "output_type": "execute_result"
    }
   ],
   "source": [
    "m"
   ]
  },
  {
   "cell_type": "code",
   "execution_count": 29,
   "metadata": {},
   "outputs": [
    {
     "name": "stdout",
     "output_type": "stream",
     "text": [
      "13\n"
     ]
    }
   ],
   "source": [
    "# второй вариант решения\n",
    "import numpy as np\n",
    "matrix = np.array(users_stats).T\n",
    "print(matrix.sum(axis=1).max())"
   ]
  },
  {
   "cell_type": "code",
   "execution_count": 31,
   "metadata": {},
   "outputs": [
    {
     "data": {
      "text/plain": [
       "13"
      ]
     },
     "execution_count": 31,
     "metadata": {},
     "output_type": "execute_result"
    }
   ],
   "source": [
    "# или так\n",
    "users_stats.sum(axis=0).max()"
   ]
  },
  {
   "cell_type": "markdown",
   "metadata": {},
   "source": [
    "Работа с динамичными структурами.\n",
    "1. Пусть список студентов представлен в виде структуры [[No, ФИО, Возраст,Группа],[No, ФИО, Возраст, Группа],[No, ФИО,\n",
    "Возраст, Группа]]. Преобразуйте список в словарь вида: {No: [ФИО, Возраст, Группа], No:[....], No: [....]}\n"
   ]
  },
  {
   "cell_type": "code",
   "execution_count": 248,
   "metadata": {},
   "outputs": [],
   "source": [
    "# создадим матрицу\n",
    "students = [\n",
    "        [1, 'Ivanov Ivan Ivanovich', 17, 'Economy'],\n",
    "        [2, 'Petrov Petr Petrovich', 19, 'Math'],\n",
    "        [3, 'Sidorov Sidor Sidorovich', 21, 'Geography']\n",
    "]"
   ]
  },
  {
   "cell_type": "code",
   "execution_count": 249,
   "metadata": {},
   "outputs": [
    {
     "data": {
      "text/plain": [
       "[[1, 'Ivanov Ivan Ivanovich', 17, 'Economy'],\n",
       " [2, 'Petrov Petr Petrovich', 19, 'Math'],\n",
       " [3, 'Sidorov Sidor Sidorovich', 21, 'Geography']]"
      ]
     },
     "execution_count": 249,
     "metadata": {},
     "output_type": "execute_result"
    }
   ],
   "source": [
    "# посмотрим, что получилось\n",
    "students"
   ]
  },
  {
   "cell_type": "code",
   "execution_count": 250,
   "metadata": {},
   "outputs": [
    {
     "data": {
      "text/plain": [
       "3"
      ]
     },
     "execution_count": 250,
     "metadata": {},
     "output_type": "execute_result"
    }
   ],
   "source": [
    "#количество строк в матрице, которые нужно разбить\n",
    "len(students)"
   ]
  },
  {
   "cell_type": "code",
   "execution_count": 251,
   "metadata": {},
   "outputs": [
    {
     "data": {
      "text/plain": [
       "{1: ['Ivanov Ivan Ivanovich', 17, 'Economy'],\n",
       " 2: ['Petrov Petr Petrovich', 19, 'Math'],\n",
       " 3: ['Sidorov Sidor Sidorovich', 21, 'Geography']}"
      ]
     },
     "execution_count": 251,
     "metadata": {},
     "output_type": "execute_result"
    }
   ],
   "source": [
    "#создаем словарь\n",
    "{students[n][0]:students[n][1:] for n in range(len(students))}"
   ]
  },
  {
   "cell_type": "markdown",
   "metadata": {},
   "source": [
    "2. Добавьте к задаче No6 для словаря возможность (без преобразования словаря обратно в список) изменить группу\n",
    "студента. Поиск по «ФИО» («ФИО» студента и новый номер группы необходимо ввести с клавиатуры)."
   ]
  },
  {
   "cell_type": "code",
   "execution_count": 252,
   "metadata": {},
   "outputs": [
    {
     "data": {
      "text/plain": [
       "{1: ['Ivanov Ivan Ivanovich', 17, 'Economy'],\n",
       " 2: ['Petrov Petr Petrovich', 19, 'Math'],\n",
       " 3: ['Sidorov Sidor Sidorovich', 21, 'Geography']}"
      ]
     },
     "execution_count": 252,
     "metadata": {},
     "output_type": "execute_result"
    }
   ],
   "source": [
    "#выведем наш словарь со студентами\n",
    "students_dict = {students[n][0]:students[n][1:] for n in range(len(students))}\n",
    "students_dict"
   ]
  },
  {
   "cell_type": "code",
   "execution_count": 253,
   "metadata": {},
   "outputs": [
    {
     "data": {
      "text/plain": [
       "['Ivanov Ivan Ivanovich', 17, 'Economy']"
      ]
     },
     "execution_count": 253,
     "metadata": {},
     "output_type": "execute_result"
    }
   ],
   "source": [
    "#при обращении к ключу словаря получаем значение\n",
    "students_dict[1]"
   ]
  },
  {
   "cell_type": "code",
   "execution_count": 254,
   "metadata": {
    "scrolled": true
   },
   "outputs": [
    {
     "name": "stdout",
     "output_type": "stream",
     "text": [
      "Введите номер студента: 1\n",
      "Введите группу: Data Science\n"
     ]
    }
   ],
   "source": [
    "student = input('Введите номер студента: ')\n",
    "subject = input('Введите группу: ')"
   ]
  },
  {
   "cell_type": "code",
   "execution_count": 255,
   "metadata": {},
   "outputs": [
    {
     "data": {
      "text/plain": [
       "'1'"
      ]
     },
     "execution_count": 255,
     "metadata": {},
     "output_type": "execute_result"
    }
   ],
   "source": [
    "#получили значение номера студента\n",
    "student"
   ]
  },
  {
   "cell_type": "code",
   "execution_count": 256,
   "metadata": {},
   "outputs": [
    {
     "data": {
      "text/plain": [
       "'Data Science'"
      ]
     },
     "execution_count": 256,
     "metadata": {},
     "output_type": "execute_result"
    }
   ],
   "source": [
    "#получили значение группы\n",
    "subject"
   ]
  },
  {
   "cell_type": "code",
   "execution_count": 257,
   "metadata": {},
   "outputs": [],
   "source": [
    "#заменяем последнее значение в ключе словаря. Введенные значение преобразуемв нужный тип\n",
    "students_dict[int(student)][-1] = str(subject)"
   ]
  },
  {
   "cell_type": "code",
   "execution_count": 258,
   "metadata": {},
   "outputs": [],
   "source": [
    "#проверяем результат"
   ]
  },
  {
   "cell_type": "code",
   "execution_count": 259,
   "metadata": {},
   "outputs": [
    {
     "data": {
      "text/plain": [
       "{1: ['Ivanov Ivan Ivanovich', 17, 'Data Science'],\n",
       " 2: ['Petrov Petr Petrovich', 19, 'Math'],\n",
       " 3: ['Sidorov Sidor Sidorovich', 21, 'Geography']}"
      ]
     },
     "execution_count": 259,
     "metadata": {},
     "output_type": "execute_result"
    }
   ],
   "source": [
    "students_dict"
   ]
  },
  {
   "cell_type": "markdown",
   "metadata": {},
   "source": [
    "3. Добавьте к задаче No6 для словаря возможность (без преобразования словаря обратно в список) изменить возраст\n",
    "студента. "
   ]
  },
  {
   "cell_type": "code",
   "execution_count": 261,
   "metadata": {},
   "outputs": [
    {
     "name": "stdout",
     "output_type": "stream",
     "text": [
      "Введите номер студента: 1\n",
      "Введите возраст студента: 15\n"
     ]
    }
   ],
   "source": [
    "student = input('Введите номер студента: ')\n",
    "age = input('Введите возраст студента: ')"
   ]
  },
  {
   "cell_type": "code",
   "execution_count": 262,
   "metadata": {},
   "outputs": [],
   "source": [
    "#заменяем второе значение в ключе словаря. Введенные значение преобразуемв нужный тип\n",
    "students_dict[int(student)][1] = int(age)"
   ]
  },
  {
   "cell_type": "code",
   "execution_count": 263,
   "metadata": {},
   "outputs": [
    {
     "data": {
      "text/plain": [
       "{1: ['Ivanov Ivan Ivanovich', 15, 'Data Science'],\n",
       " 2: ['Petrov Petr Petrovich', 19, 'Math'],\n",
       " 3: ['Sidorov Sidor Sidorovich', 21, 'Geography']}"
      ]
     },
     "execution_count": 263,
     "metadata": {},
     "output_type": "execute_result"
    }
   ],
   "source": [
    "#проверяем\n",
    "students_dict"
   ]
  },
  {
   "cell_type": "code",
   "execution_count": null,
   "metadata": {},
   "outputs": [],
   "source": []
  }
 ],
 "metadata": {
  "kernelspec": {
   "display_name": "Python 3",
   "language": "python",
   "name": "python3"
  },
  "language_info": {
   "codemirror_mode": {
    "name": "ipython",
    "version": 3
   },
   "file_extension": ".py",
   "mimetype": "text/x-python",
   "name": "python",
   "nbconvert_exporter": "python",
   "pygments_lexer": "ipython3",
   "version": "3.7.0"
  }
 },
 "nbformat": 4,
 "nbformat_minor": 2
}
